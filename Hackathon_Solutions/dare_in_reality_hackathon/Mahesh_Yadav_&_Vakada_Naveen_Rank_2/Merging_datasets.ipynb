{
  "nbformat": 4,
  "nbformat_minor": 0,
  "metadata": {
    "colab": {
      "name": "Merging datasets.ipynb",
      "provenance": []
    },
    "kernelspec": {
      "name": "python3",
      "display_name": "Python 3"
    },
    "language_info": {
      "name": "python"
    }
  },
  "cells": [
    {
      "cell_type": "code",
      "metadata": {
        "id": "ElnivrKpsuh0"
      },
      "source": [
        "import numpy as np\n",
        "import pandas as pd"
      ],
      "execution_count": null,
      "outputs": []
    },
    {
      "cell_type": "code",
      "metadata": {
        "id": "MepWPDBAta9V"
      },
      "source": [
        "#!unzip /content/Data_DIR_2021.zip"
      ],
      "execution_count": null,
      "outputs": []
    },
    {
      "cell_type": "code",
      "metadata": {
        "colab": {
          "base_uri": "https://localhost:8080/"
        },
        "id": "mW6BjGB9tpFV",
        "outputId": "2a39fa7f-3f25-4bac-86a3-c25f703bead2"
      },
      "source": [
        "wdf = pd.read_csv('train_weather.csv')\n",
        "wdf.info()"
      ],
      "execution_count": null,
      "outputs": [
        {
          "output_type": "stream",
          "name": "stdout",
          "text": [
            "<class 'pandas.core.frame.DataFrame'>\n",
            "RangeIndex: 914 entries, 0 to 913\n",
            "Data columns (total 11 columns):\n",
            " #   Column            Non-Null Count  Dtype \n",
            "---  ------            --------------  ----- \n",
            " 0   TIME_UTC_SECONDS  914 non-null    int64 \n",
            " 1   TIME_UTC_STR      914 non-null    object\n",
            " 2   AIR_TEMP          914 non-null    object\n",
            " 3   TRACK_TEMP        914 non-null    object\n",
            " 4   HUMIDITY          914 non-null    object\n",
            " 5   PRESSURE          914 non-null    object\n",
            " 6   WIND_SPEED        914 non-null    object\n",
            " 7   WIND_DIRECTION    914 non-null    int64 \n",
            " 8   RAIN              914 non-null    object\n",
            " 9   LOCATION          914 non-null    object\n",
            " 10  EVENT             914 non-null    object\n",
            "dtypes: int64(2), object(9)\n",
            "memory usage: 78.7+ KB\n"
          ]
        }
      ]
    },
    {
      "cell_type": "code",
      "metadata": {
        "colab": {
          "base_uri": "https://localhost:8080/",
          "height": 267
        },
        "id": "Z0LXgitOtu3b",
        "outputId": "45db7634-dde9-4e65-b4ad-ca1680b618a6"
      },
      "source": [
        "wdf.head(3)"
      ],
      "execution_count": null,
      "outputs": [
        {
          "output_type": "execute_result",
          "data": {
            "text/html": [
              "<div>\n",
              "<style scoped>\n",
              "    .dataframe tbody tr th:only-of-type {\n",
              "        vertical-align: middle;\n",
              "    }\n",
              "\n",
              "    .dataframe tbody tr th {\n",
              "        vertical-align: top;\n",
              "    }\n",
              "\n",
              "    .dataframe thead th {\n",
              "        text-align: right;\n",
              "    }\n",
              "</style>\n",
              "<table border=\"1\" class=\"dataframe\">\n",
              "  <thead>\n",
              "    <tr style=\"text-align: right;\">\n",
              "      <th></th>\n",
              "      <th>TIME_UTC_SECONDS</th>\n",
              "      <th>TIME_UTC_STR</th>\n",
              "      <th>AIR_TEMP</th>\n",
              "      <th>TRACK_TEMP</th>\n",
              "      <th>HUMIDITY</th>\n",
              "      <th>PRESSURE</th>\n",
              "      <th>WIND_SPEED</th>\n",
              "      <th>WIND_DIRECTION</th>\n",
              "      <th>RAIN</th>\n",
              "      <th>LOCATION</th>\n",
              "      <th>EVENT</th>\n",
              "    </tr>\n",
              "  </thead>\n",
              "  <tbody>\n",
              "    <tr>\n",
              "      <th>0</th>\n",
              "      <td>1618042506</td>\n",
              "      <td>10/04/21 8:15</td>\n",
              "      <td>15</td>\n",
              "      <td>18.4</td>\n",
              "      <td>60</td>\n",
              "      <td>1018.05</td>\n",
              "      <td>2.12187</td>\n",
              "      <td>165</td>\n",
              "      <td>-1</td>\n",
              "      <td>Location 2</td>\n",
              "      <td>Free Practice 2</td>\n",
              "    </tr>\n",
              "    <tr>\n",
              "      <th>1</th>\n",
              "      <td>1618042567</td>\n",
              "      <td>10/04/21 8:16</td>\n",
              "      <td>15.0556</td>\n",
              "      <td>18.4</td>\n",
              "      <td>60</td>\n",
              "      <td>1018.12</td>\n",
              "      <td>1.06093</td>\n",
              "      <td>177</td>\n",
              "      <td>-1</td>\n",
              "      <td>Location 2</td>\n",
              "      <td>Free Practice 2</td>\n",
              "    </tr>\n",
              "    <tr>\n",
              "      <th>2</th>\n",
              "      <td>1618042632</td>\n",
              "      <td>10/04/21 8:17</td>\n",
              "      <td>15.0556</td>\n",
              "      <td>18.5</td>\n",
              "      <td>60</td>\n",
              "      <td>1018.12</td>\n",
              "      <td>2.12187</td>\n",
              "      <td>157</td>\n",
              "      <td>-1</td>\n",
              "      <td>Location 2</td>\n",
              "      <td>Free Practice 2</td>\n",
              "    </tr>\n",
              "  </tbody>\n",
              "</table>\n",
              "</div>"
            ],
            "text/plain": [
              "   TIME_UTC_SECONDS   TIME_UTC_STR AIR_TEMP  ... RAIN    LOCATION            EVENT\n",
              "0        1618042506  10/04/21 8:15       15  ...   -1  Location 2  Free Practice 2\n",
              "1        1618042567  10/04/21 8:16  15.0556  ...   -1  Location 2  Free Practice 2\n",
              "2        1618042632  10/04/21 8:17  15.0556  ...   -1  Location 2  Free Practice 2\n",
              "\n",
              "[3 rows x 11 columns]"
            ]
          },
          "metadata": {},
          "execution_count": 19
        }
      ]
    },
    {
      "cell_type": "code",
      "metadata": {
        "colab": {
          "base_uri": "https://localhost:8080/",
          "height": 267
        },
        "id": "fX4VgEw-t3-C",
        "outputId": "74b14c61-b6c2-446f-d02b-20540d3ad2cd"
      },
      "source": [
        "train_df = pd.read_csv('/content/train.csv')\n",
        "train_df.head(3)"
      ],
      "execution_count": null,
      "outputs": [
        {
          "output_type": "execute_result",
          "data": {
            "text/html": [
              "<div>\n",
              "<style scoped>\n",
              "    .dataframe tbody tr th:only-of-type {\n",
              "        vertical-align: middle;\n",
              "    }\n",
              "\n",
              "    .dataframe tbody tr th {\n",
              "        vertical-align: top;\n",
              "    }\n",
              "\n",
              "    .dataframe thead th {\n",
              "        text-align: right;\n",
              "    }\n",
              "</style>\n",
              "<table border=\"1\" class=\"dataframe\">\n",
              "  <thead>\n",
              "    <tr style=\"text-align: right;\">\n",
              "      <th></th>\n",
              "      <th>NUMBER</th>\n",
              "      <th>DRIVER_NUMBER</th>\n",
              "      <th>LAP_NUMBER</th>\n",
              "      <th>LAP_TIME</th>\n",
              "      <th>LAP_IMPROVEMENT</th>\n",
              "      <th>CROSSING_FINISH_LINE_IN_PIT</th>\n",
              "      <th>S1</th>\n",
              "      <th>S1_IMPROVEMENT</th>\n",
              "      <th>S2</th>\n",
              "      <th>S2_IMPROVEMENT</th>\n",
              "      <th>S3</th>\n",
              "      <th>S3_IMPROVEMENT</th>\n",
              "      <th>KPH</th>\n",
              "      <th>ELAPSED</th>\n",
              "      <th>HOUR</th>\n",
              "      <th>S1_LARGE</th>\n",
              "      <th>S2_LARGE</th>\n",
              "      <th>S3_LARGE</th>\n",
              "      <th>DRIVER_NAME</th>\n",
              "      <th>PIT_TIME</th>\n",
              "      <th>GROUP</th>\n",
              "      <th>TEAM</th>\n",
              "      <th>POWER</th>\n",
              "      <th>LOCATION</th>\n",
              "      <th>EVENT</th>\n",
              "    </tr>\n",
              "  </thead>\n",
              "  <tbody>\n",
              "    <tr>\n",
              "      <th>0</th>\n",
              "      <td>10</td>\n",
              "      <td>1</td>\n",
              "      <td>1</td>\n",
              "      <td>92</td>\n",
              "      <td>0</td>\n",
              "      <td>NaN</td>\n",
              "      <td>05:43.3</td>\n",
              "      <td>0</td>\n",
              "      <td>35.427</td>\n",
              "      <td>0</td>\n",
              "      <td>43.313</td>\n",
              "      <td>0</td>\n",
              "      <td>28.8</td>\n",
              "      <td>07:02.0</td>\n",
              "      <td>22:02.0</td>\n",
              "      <td>05:43.3</td>\n",
              "      <td>00:35.4</td>\n",
              "      <td>00:43.3</td>\n",
              "      <td>SB</td>\n",
              "      <td>05:14.7</td>\n",
              "      <td>NaN</td>\n",
              "      <td>JR</td>\n",
              "      <td>NaN</td>\n",
              "      <td>Location 2</td>\n",
              "      <td>Free Practice 2</td>\n",
              "    </tr>\n",
              "    <tr>\n",
              "      <th>1</th>\n",
              "      <td>10</td>\n",
              "      <td>1</td>\n",
              "      <td>2</td>\n",
              "      <td>87</td>\n",
              "      <td>2</td>\n",
              "      <td>NaN</td>\n",
              "      <td>25.674</td>\n",
              "      <td>2</td>\n",
              "      <td>33.399</td>\n",
              "      <td>2</td>\n",
              "      <td>41.922</td>\n",
              "      <td>2</td>\n",
              "      <td>120.5</td>\n",
              "      <td>08:43.0</td>\n",
              "      <td>23:43.0</td>\n",
              "      <td>00:25.7</td>\n",
              "      <td>00:33.4</td>\n",
              "      <td>00:41.9</td>\n",
              "      <td>SB</td>\n",
              "      <td>NaN</td>\n",
              "      <td>NaN</td>\n",
              "      <td>JR</td>\n",
              "      <td>NaN</td>\n",
              "      <td>Location 2</td>\n",
              "      <td>Free Practice 2</td>\n",
              "    </tr>\n",
              "    <tr>\n",
              "      <th>2</th>\n",
              "      <td>10</td>\n",
              "      <td>1</td>\n",
              "      <td>3</td>\n",
              "      <td>73</td>\n",
              "      <td>0</td>\n",
              "      <td>B</td>\n",
              "      <td>28.129</td>\n",
              "      <td>0</td>\n",
              "      <td>34.091</td>\n",
              "      <td>0</td>\n",
              "      <td>57.248</td>\n",
              "      <td>0</td>\n",
              "      <td>101.9</td>\n",
              "      <td>10:42.5</td>\n",
              "      <td>25:42.5</td>\n",
              "      <td>00:28.1</td>\n",
              "      <td>00:34.1</td>\n",
              "      <td>00:57.2</td>\n",
              "      <td>SB</td>\n",
              "      <td>NaN</td>\n",
              "      <td>NaN</td>\n",
              "      <td>JR</td>\n",
              "      <td>NaN</td>\n",
              "      <td>Location 2</td>\n",
              "      <td>Free Practice 2</td>\n",
              "    </tr>\n",
              "  </tbody>\n",
              "</table>\n",
              "</div>"
            ],
            "text/plain": [
              "   NUMBER   DRIVER_NUMBER   LAP_NUMBER  ...  POWER    LOCATION            EVENT\n",
              "0      10               1            1  ...    NaN  Location 2  Free Practice 2\n",
              "1      10               1            2  ...    NaN  Location 2  Free Practice 2\n",
              "2      10               1            3  ...    NaN  Location 2  Free Practice 2\n",
              "\n",
              "[3 rows x 25 columns]"
            ]
          },
          "metadata": {},
          "execution_count": 20
        }
      ]
    },
    {
      "cell_type": "code",
      "metadata": {
        "colab": {
          "base_uri": "https://localhost:8080/"
        },
        "id": "B6KEaQA8u_m9",
        "outputId": "0614eb73-36fc-4ff0-dfca-28a9bc0a11de"
      },
      "source": [
        "wdf=wdf.rename(columns={\"EVENTS\":\"EVENT\"})\n",
        "wdf=wdf.drop(columns=[\"TIME_UTC_SECONDS\",\"TIME_UTC_STR\"])\n",
        "wdf.info()"
      ],
      "execution_count": null,
      "outputs": [
        {
          "output_type": "stream",
          "name": "stdout",
          "text": [
            "<class 'pandas.core.frame.DataFrame'>\n",
            "RangeIndex: 914 entries, 0 to 913\n",
            "Data columns (total 9 columns):\n",
            " #   Column          Non-Null Count  Dtype \n",
            "---  ------          --------------  ----- \n",
            " 0   AIR_TEMP        914 non-null    object\n",
            " 1   TRACK_TEMP      914 non-null    object\n",
            " 2   HUMIDITY        914 non-null    object\n",
            " 3   PRESSURE        914 non-null    object\n",
            " 4   WIND_SPEED      914 non-null    object\n",
            " 5   WIND_DIRECTION  914 non-null    int64 \n",
            " 6   RAIN            914 non-null    object\n",
            " 7   LOCATION        914 non-null    object\n",
            " 8   EVENT           914 non-null    object\n",
            "dtypes: int64(1), object(8)\n",
            "memory usage: 64.4+ KB\n"
          ]
        }
      ]
    },
    {
      "cell_type": "code",
      "metadata": {
        "id": "Lx8wIMMP0Z2y"
      },
      "source": [
        "def val_conv(t):\n",
        "  t=str(t)\n",
        "  t=t.replace(',','.')\n",
        "  ind=t.find('.')\n",
        "  t=t[:(ind+1)]+t[(ind+1):].replace('.','')\n",
        "  return float(t)"
      ],
      "execution_count": null,
      "outputs": []
    },
    {
      "cell_type": "code",
      "metadata": {
        "id": "aY6U90L_1q-_"
      },
      "source": [
        "cn=list(wdf.columns)\n",
        "pcl = [i for i in range(7)]\n",
        "for c in pcl:\n",
        "  wdf[cn[c]]=wdf[cn[c]].apply(func=val_conv)"
      ],
      "execution_count": null,
      "outputs": []
    },
    {
      "cell_type": "code",
      "metadata": {
        "id": "-S_wO9exwXYR"
      },
      "source": [
        "wdf = wdf.astype({\"LOCATION\": 'category',\"EVENT\": 'category'})\n",
        "train_df = train_df.astype({\"LOCATION\": 'category',\"EVENT\": 'category'})"
      ],
      "execution_count": null,
      "outputs": []
    },
    {
      "cell_type": "code",
      "metadata": {
        "id": "67L_IcBfztzb"
      },
      "source": [
        "gdf = wdf.groupby([\"LOCATION\",\"EVENT\"]).agg({key:np.mean for key in cn[:7]})"
      ],
      "execution_count": null,
      "outputs": []
    },
    {
      "cell_type": "code",
      "metadata": {
        "colab": {
          "base_uri": "https://localhost:8080/"
        },
        "id": "bYvL7TtUuNEv",
        "outputId": "9ff2e0d7-d462-4492-e646-b9975afbf842"
      },
      "source": [
        "mdf = pd.merge(train_df,gdf,how='left',on=['LOCATION','EVENT'])\n",
        "mdf.info()"
      ],
      "execution_count": null,
      "outputs": [
        {
          "output_type": "stream",
          "name": "stdout",
          "text": [
            "<class 'pandas.core.frame.DataFrame'>\n",
            "Int64Index: 10276 entries, 0 to 10275\n",
            "Data columns (total 32 columns):\n",
            " #   Column                        Non-Null Count  Dtype   \n",
            "---  ------                        --------------  -----   \n",
            " 0   NUMBER                        10276 non-null  int64   \n",
            " 1    DRIVER_NUMBER                10276 non-null  int64   \n",
            " 2    LAP_NUMBER                   10276 non-null  int64   \n",
            " 3   LAP_TIME                      10276 non-null  int64   \n",
            " 4    LAP_IMPROVEMENT              10276 non-null  int64   \n",
            " 5    CROSSING_FINISH_LINE_IN_PIT  1234 non-null   object  \n",
            " 6    S1                           10272 non-null  object  \n",
            " 7    S1_IMPROVEMENT               10276 non-null  int64   \n",
            " 8    S2                           10268 non-null  object  \n",
            " 9    S2_IMPROVEMENT               10276 non-null  int64   \n",
            " 10   S3                           10242 non-null  object  \n",
            " 11   S3_IMPROVEMENT               10276 non-null  int64   \n",
            " 12   KPH                          10246 non-null  float64 \n",
            " 13   ELAPSED                      10276 non-null  object  \n",
            " 14   HOUR                         10276 non-null  object  \n",
            " 15  S1_LARGE                      10272 non-null  object  \n",
            " 16  S2_LARGE                      10268 non-null  object  \n",
            " 17  S3_LARGE                      10242 non-null  object  \n",
            " 18  DRIVER_NAME                   10276 non-null  object  \n",
            " 19  PIT_TIME                      1898 non-null   object  \n",
            " 20  GROUP                         508 non-null    float64 \n",
            " 21  TEAM                          10276 non-null  object  \n",
            " 22  POWER                         2903 non-null   float64 \n",
            " 23  LOCATION                      10276 non-null  object  \n",
            " 24  EVENT                         10276 non-null  category\n",
            " 25  AIR_TEMP                      7913 non-null   float64 \n",
            " 26  TRACK_TEMP                    7913 non-null   float64 \n",
            " 27  HUMIDITY                      7913 non-null   float64 \n",
            " 28  PRESSURE                      7913 non-null   float64 \n",
            " 29  WIND_SPEED                    7913 non-null   float64 \n",
            " 30  WIND_DIRECTION                7913 non-null   float64 \n",
            " 31  RAIN                          7913 non-null   float64 \n",
            "dtypes: category(1), float64(10), int64(8), object(13)\n",
            "memory usage: 2.5+ MB\n"
          ]
        }
      ]
    },
    {
      "cell_type": "code",
      "metadata": {
        "id": "tELDTXoOurOD"
      },
      "source": [
        "mdf.to_csv('final_train.csv', index=False)"
      ],
      "execution_count": null,
      "outputs": []
    },
    {
      "cell_type": "code",
      "metadata": {
        "colab": {
          "base_uri": "https://localhost:8080/"
        },
        "id": "KRrq5GjxaRkw",
        "outputId": "e3534a95-b834-4f57-ecb7-32e53a4711b3"
      },
      "source": [
        "twdf = pd.read_csv('test_weather.csv')\n",
        "test_df=pd.read_csv('test.csv')\n",
        "twdf=twdf.rename(columns={\"EVENTS\":\"EVENT\"})\n",
        "twdf.drop(columns=[\"TIME_UTC_SECONDS\",\"TIME_UTC_STR\"],inplace=True)\n",
        "twdf.info()"
      ],
      "execution_count": null,
      "outputs": [
        {
          "output_type": "stream",
          "name": "stdout",
          "text": [
            "<class 'pandas.core.frame.DataFrame'>\n",
            "RangeIndex: 167 entries, 0 to 166\n",
            "Data columns (total 9 columns):\n",
            " #   Column          Non-Null Count  Dtype \n",
            "---  ------          --------------  ----- \n",
            " 0   AIR_TEMP        167 non-null    object\n",
            " 1   TRACK_TEMP      167 non-null    object\n",
            " 2   HUMIDITY        167 non-null    object\n",
            " 3   PRESSURE        167 non-null    object\n",
            " 4   WIND_SPEED      167 non-null    object\n",
            " 5   WIND_DIRECTION  167 non-null    int64 \n",
            " 6   RAIN            167 non-null    int64 \n",
            " 7   LOCATION        167 non-null    object\n",
            " 8   EVENT           167 non-null    object\n",
            "dtypes: int64(2), object(7)\n",
            "memory usage: 11.9+ KB\n"
          ]
        }
      ]
    },
    {
      "cell_type": "code",
      "metadata": {
        "colab": {
          "base_uri": "https://localhost:8080/"
        },
        "id": "ytXjXFVYaXgc",
        "outputId": "481a8738-f4f2-45c7-fd2f-727ac46d1dca"
      },
      "source": [
        "for c in pcl:\n",
        "  twdf[cn[c]]=twdf[cn[c]].apply(func=val_conv)\n",
        "twdf = twdf.astype({\"LOCATION\": 'category',\"EVENT\": 'category'})\n",
        "test_df = test_df.astype({\"LOCATION\": 'category',\"EVENT\": 'category'})\n",
        "tgdf = twdf.groupby([\"LOCATION\",\"EVENT\"]).agg({key:np.mean for key in cn[:7]})\n",
        "tmdf = pd.merge(test_df,tgdf,how='left',on=['LOCATION','EVENT'])\n",
        "tmdf.info()"
      ],
      "execution_count": null,
      "outputs": [
        {
          "output_type": "stream",
          "name": "stdout",
          "text": [
            "<class 'pandas.core.frame.DataFrame'>\n",
            "Int64Index: 420 entries, 0 to 419\n",
            "Data columns (total 32 columns):\n",
            " #   Column                        Non-Null Count  Dtype  \n",
            "---  ------                        --------------  -----  \n",
            " 0   NUMBER                        420 non-null    int64  \n",
            " 1    DRIVER_NUMBER                420 non-null    int64  \n",
            " 2    LAP_NUMBER                   420 non-null    int64  \n",
            " 3   LAP_TIME                      0 non-null      float64\n",
            " 4    LAP_IMPROVEMENT              420 non-null    int64  \n",
            " 5    CROSSING_FINISH_LINE_IN_PIT  16 non-null     object \n",
            " 6    S1                           420 non-null    object \n",
            " 7    S1_IMPROVEMENT               420 non-null    int64  \n",
            " 8    S2                           420 non-null    object \n",
            " 9    S2_IMPROVEMENT               420 non-null    int64  \n",
            " 10   S3                           418 non-null    object \n",
            " 11   S3_IMPROVEMENT               420 non-null    int64  \n",
            " 12   KPH                          418 non-null    float64\n",
            " 13   ELAPSED                      420 non-null    object \n",
            " 14   HOUR                         420 non-null    object \n",
            " 15  S1_LARGE                      420 non-null    object \n",
            " 16  S2_LARGE                      420 non-null    object \n",
            " 17  S3_LARGE                      418 non-null    object \n",
            " 18  DRIVER_NAME                   420 non-null    object \n",
            " 19  PIT_TIME                      155 non-null    object \n",
            " 20  GROUP                         391 non-null    float64\n",
            " 21  TEAM                          420 non-null    object \n",
            " 22  POWER                         309 non-null    float64\n",
            " 23  LOCATION                      420 non-null    object \n",
            " 24  EVENT                         420 non-null    object \n",
            " 25  AIR_TEMP                      112 non-null    float64\n",
            " 26  TRACK_TEMP                    112 non-null    float64\n",
            " 27  HUMIDITY                      112 non-null    float64\n",
            " 28  PRESSURE                      112 non-null    float64\n",
            " 29  WIND_SPEED                    112 non-null    float64\n",
            " 30  WIND_DIRECTION                112 non-null    float64\n",
            " 31  RAIN                          112 non-null    float64\n",
            "dtypes: float64(11), int64(7), object(14)\n",
            "memory usage: 108.3+ KB\n"
          ]
        }
      ]
    },
    {
      "cell_type": "code",
      "metadata": {
        "id": "aiYqsGoMbH1q"
      },
      "source": [
        "tmdf.to_csv('final_test.csv', index=False)"
      ],
      "execution_count": null,
      "outputs": []
    }
  ]
}