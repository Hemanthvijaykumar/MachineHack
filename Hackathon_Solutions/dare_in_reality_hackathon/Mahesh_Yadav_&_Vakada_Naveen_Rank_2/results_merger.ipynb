{
  "nbformat": 4,
  "nbformat_minor": 0,
  "metadata": {
    "colab": {
      "name": "results_merger.ipynb",
      "provenance": []
    },
    "kernelspec": {
      "name": "python3",
      "display_name": "Python 3"
    },
    "language_info": {
      "name": "python"
    }
  },
  "cells": [
    {
      "cell_type": "code",
      "metadata": {
        "id": "CBjovp7KEhIQ"
      },
      "source": [
        "import pandas as pd\n",
        "import numpy as np\n",
        "import os"
      ],
      "execution_count": null,
      "outputs": []
    },
    {
      "cell_type": "code",
      "metadata": {
        "id": "viOa23y8EnRm",
        "colab": {
          "base_uri": "https://localhost:8080/"
        },
        "outputId": "a2a03e29-6876-459b-e5f7-55d8e293fbdd"
      },
      "source": [
        "!unzip /content/final_preds.zip"
      ],
      "execution_count": null,
      "outputs": [
        {
          "output_type": "stream",
          "name": "stdout",
          "text": [
            "Archive:  /content/final_preds.zip\n",
            "  inflating: final_preds/my_3_16ssubmission6_file47_679.csv  \n",
            "  inflating: final_preds/my_submission_file2029.csv  \n",
            "  inflating: final_preds/my_submission_file2124.csv  \n",
            "  inflating: final_preds/my_submission_file80_675_best.csv  \n",
            "  inflating: final_preds/my_submission60_file47_677.csv  \n"
          ]
        }
      ]
    },
    {
      "cell_type": "code",
      "metadata": {
        "colab": {
          "base_uri": "https://localhost:8080/"
        },
        "id": "K46zccy-EwdZ",
        "outputId": "09308e76-a708-4bb0-e63c-7db3c1cb6466"
      },
      "source": [
        "path = \"/content/final_preds\"\n",
        "dir_list = os.listdir(path)\n",
        "print(dir_list)"
      ],
      "execution_count": null,
      "outputs": [
        {
          "output_type": "stream",
          "name": "stdout",
          "text": [
            "['my_submission60_file47_677.csv', 'my_3_16ssubmission6_file47_679.csv', 'my_submission_file80_675_best.csv', 'my_submission_file2124.csv', 'my_submission_file2029.csv']\n"
          ]
        }
      ]
    },
    {
      "cell_type": "code",
      "metadata": {
        "colab": {
          "base_uri": "https://localhost:8080/",
          "height": 35
        },
        "id": "oElRwFQeFBDU",
        "outputId": "5f0753ed-d3ae-4275-ba02-1269d9d50a9b"
      },
      "source": [
        "dfs = []\n",
        "for fl in dir_list:\n",
        "  dfs.append(pd.read_csv(path+\"/\"+fl))\n",
        "for i in range(1,len(dfs)):\n",
        "  dfs[0]=dfs[0]+dfs[i]\n",
        "dfs[0]=dfs[0]/len(dfs)\n",
        "dfs[0].shape\n",
        "submission_df = dfs[0]\n",
        "submission_df = submission_df.fillna(value = np.mean(submission_df))\n",
        "submission_df.to_csv('my_submission_file.csv', index=False)\n",
        "from google.colab import files\n",
        "files.download('my_submission_file.csv')\n",
        "print(submission_df.size)"
      ],
      "execution_count": null,
      "outputs": [
        {
          "output_type": "display_data",
          "data": {
            "application/javascript": [
              "\n",
              "    async function download(id, filename, size) {\n",
              "      if (!google.colab.kernel.accessAllowed) {\n",
              "        return;\n",
              "      }\n",
              "      const div = document.createElement('div');\n",
              "      const label = document.createElement('label');\n",
              "      label.textContent = `Downloading \"${filename}\": `;\n",
              "      div.appendChild(label);\n",
              "      const progress = document.createElement('progress');\n",
              "      progress.max = size;\n",
              "      div.appendChild(progress);\n",
              "      document.body.appendChild(div);\n",
              "\n",
              "      const buffers = [];\n",
              "      let downloaded = 0;\n",
              "\n",
              "      const channel = await google.colab.kernel.comms.open(id);\n",
              "      // Send a message to notify the kernel that we're ready.\n",
              "      channel.send({})\n",
              "\n",
              "      for await (const message of channel.messages) {\n",
              "        // Send a message to notify the kernel that we're ready.\n",
              "        channel.send({})\n",
              "        if (message.buffers) {\n",
              "          for (const buffer of message.buffers) {\n",
              "            buffers.push(buffer);\n",
              "            downloaded += buffer.byteLength;\n",
              "            progress.value = downloaded;\n",
              "          }\n",
              "        }\n",
              "      }\n",
              "      const blob = new Blob(buffers, {type: 'application/binary'});\n",
              "      const a = document.createElement('a');\n",
              "      a.href = window.URL.createObjectURL(blob);\n",
              "      a.download = filename;\n",
              "      div.appendChild(a);\n",
              "      a.click();\n",
              "      div.remove();\n",
              "    }\n",
              "  "
            ],
            "text/plain": [
              "<IPython.core.display.Javascript object>"
            ]
          },
          "metadata": {}
        },
        {
          "output_type": "display_data",
          "data": {
            "application/javascript": [
              "download(\"download_185a8fa9-2852-4b3b-bf19-eed9092b8ae9\", \"my_submission_file.csv\", 5611)"
            ],
            "text/plain": [
              "<IPython.core.display.Javascript object>"
            ]
          },
          "metadata": {}
        },
        {
          "output_type": "stream",
          "name": "stdout",
          "text": [
            "420\n"
          ]
        }
      ]
    }
  ]
}