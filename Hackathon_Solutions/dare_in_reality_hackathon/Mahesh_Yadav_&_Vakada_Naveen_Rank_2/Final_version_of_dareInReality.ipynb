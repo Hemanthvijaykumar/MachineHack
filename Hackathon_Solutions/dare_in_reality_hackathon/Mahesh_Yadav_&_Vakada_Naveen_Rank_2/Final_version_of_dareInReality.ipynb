{
  "nbformat": 4,
  "nbformat_minor": 0,
  "metadata": {
    "colab": {
      "name": "Final_version_of_dareInReality.ipynb",
      "provenance": [],
      "collapsed_sections": []
    },
    "kernelspec": {
      "name": "python3",
      "display_name": "Python 3"
    },
    "language_info": {
      "name": "python"
    },
    "accelerator": "GPU"
  },
  "cells": [
    {
      "cell_type": "code",
      "metadata": {
        "id": "TwpVgacHrIO5"
      },
      "source": [
        "# Essentials\n",
        "import numpy as np\n",
        "import pandas as pd\n",
        "import datetime\n",
        "import random\n",
        "\n",
        "# Plots\n",
        "import seaborn as sns\n",
        "import matplotlib.pyplot as plt\n",
        "\n",
        "# Models\n",
        "from sklearn.ensemble import RandomForestRegressor, GradientBoostingRegressor, AdaBoostRegressor, BaggingRegressor\n",
        "from sklearn.kernel_ridge import KernelRidge\n",
        "from sklearn.linear_model import Ridge, RidgeCV\n",
        "from sklearn.linear_model import ElasticNet, ElasticNetCV\n",
        "from sklearn.svm import SVR\n",
        "from mlxtend.regressor import StackingCVRegressor\n",
        "import lightgbm as lgb\n",
        "from lightgbm import LGBMRegressor\n",
        "from xgboost import XGBRegressor\n",
        "from sklearn.neural_network import MLPRegressor\n",
        "\n",
        "\n",
        "# Stats\n",
        "from scipy.stats import skew, norm\n",
        "from scipy.special import boxcox1p\n",
        "from scipy.stats import boxcox_normmax\n",
        "\n",
        "# Misc\n",
        "from sklearn.model_selection import GridSearchCV\n",
        "from sklearn.model_selection import KFold, cross_val_score\n",
        "from sklearn.metrics import mean_squared_error\n",
        "from sklearn.metrics import mean_squared_log_error\n",
        "from sklearn.preprocessing import OneHotEncoder\n",
        "from sklearn.preprocessing import LabelEncoder\n",
        "from sklearn.pipeline import make_pipeline\n",
        "from sklearn.preprocessing import scale\n",
        "from sklearn.preprocessing import StandardScaler\n",
        "from sklearn.preprocessing import RobustScaler\n",
        "from sklearn.decomposition import PCA\n",
        "from sklearn.model_selection import train_test_split\n",
        "from sklearn import preprocessing\n",
        "import tensorflow as tf\n",
        "from tensorflow import keras\n",
        "from tensorflow.keras import layers\n",
        "import sklearn\n",
        "from keras.models import Sequential \n",
        "from keras.models import Sequential\n",
        "from keras.layers import Dense, Activation"
      ],
      "execution_count": null,
      "outputs": []
    },
    {
      "cell_type": "code",
      "metadata": {
        "id": "XVnVTPofrc7i",
        "colab": {
          "base_uri": "https://localhost:8080/"
        },
        "outputId": "fcf91ce9-b8ca-44fd-8d10-eb794ccf4eac"
      },
      "source": [
        "#!unzip /content/Data_DIR_2021_m.zip"
      ],
      "execution_count": null,
      "outputs": [
        {
          "output_type": "stream",
          "name": "stdout",
          "text": [
            "Archive:  /content/Data_DIR_2021_m.zip\n",
            "   creating: Data_DIR_2021_m/__MACOSX/\n",
            "  inflating: Data_DIR_2021_m/__MACOSX/._test.csv  \n",
            "  inflating: Data_DIR_2021_m/__MACOSX/._test_weather.csv  \n",
            "  inflating: Data_DIR_2021_m/__MACOSX/._train.csv  \n",
            "  inflating: Data_DIR_2021_m/__MACOSX/._train_weather.csv  \n",
            "  inflating: Data_DIR_2021_m/final_test.csv  \n",
            "  inflating: Data_DIR_2021_m/final_train.csv  \n",
            "  inflating: Data_DIR_2021_m/submission.csv  \n",
            "  inflating: Data_DIR_2021_m/test.csv  \n",
            "  inflating: Data_DIR_2021_m/test_weather.csv  \n",
            "  inflating: Data_DIR_2021_m/train.csv  \n",
            "  inflating: Data_DIR_2021_m/train_weather.csv  \n"
          ]
        }
      ]
    },
    {
      "cell_type": "code",
      "metadata": {
        "id": "Yd8ggjYprieC"
      },
      "source": [
        "train_df = pd.read_csv('/content/Data_DIR_2021_m/train.csv')\n",
        "test_df = pd.read_csv('/content/Data_DIR_2021_m/test.csv')"
      ],
      "execution_count": null,
      "outputs": []
    },
    {
      "cell_type": "code",
      "metadata": {
        "id": "a0i8LyKTswpJ"
      },
      "source": [
        "#train_df[\"LAP_TIME\"] = np.log1p(train_df[\"LAP_TIME\"])"
      ],
      "execution_count": null,
      "outputs": []
    },
    {
      "cell_type": "code",
      "metadata": {
        "id": "8hGXBUHYtj95"
      },
      "source": [
        "#train_df.drop(train_df[(train_df['LAP_TIME']<4)].index, inplace=True)\n",
        "#train_df.reset_index(drop=True, inplace=True)"
      ],
      "execution_count": null,
      "outputs": []
    },
    {
      "cell_type": "code",
      "metadata": {
        "id": "VbQcU-G5y_yv"
      },
      "source": [
        "def time_conv(t):\n",
        "  t=str(t)\n",
        "  ans=0.0\n",
        "  if ':' in t:\n",
        "    ind = t.index(':')\n",
        "    ans = float(t[:ind])*60.0 + float(t[(ind+1):])\n",
        "  else:\n",
        "    ans = float(t)\n",
        "  return ans"
      ],
      "execution_count": null,
      "outputs": []
    },
    {
      "cell_type": "code",
      "metadata": {
        "id": "glfkHPc47j-C"
      },
      "source": [
        "tc = train_df[\"LAP_TIME\"]"
      ],
      "execution_count": null,
      "outputs": []
    },
    {
      "cell_type": "code",
      "metadata": {
        "id": "2esJABHH06TD"
      },
      "source": [
        "df = train_df.append(test_df)"
      ],
      "execution_count": null,
      "outputs": []
    },
    {
      "cell_type": "code",
      "metadata": {
        "id": "k5fdzyFG1LWE"
      },
      "source": [
        "cn=list(df.columns)\n",
        "pcl = [6,8,10,13,14,15,16,17,19]\n",
        "for c in pcl:\n",
        "  df[cn[c]]=df[cn[c]].apply(func=time_conv)"
      ],
      "execution_count": null,
      "outputs": []
    },
    {
      "cell_type": "code",
      "metadata": {
        "colab": {
          "base_uri": "https://localhost:8080/"
        },
        "id": "5ONAZJuM1Qoy",
        "outputId": "a96623dd-d86c-41b1-c13e-5c4f211d64d7"
      },
      "source": [
        "df.info()"
      ],
      "execution_count": null,
      "outputs": [
        {
          "output_type": "stream",
          "name": "stdout",
          "text": [
            "<class 'pandas.core.frame.DataFrame'>\n",
            "Int64Index: 10696 entries, 0 to 419\n",
            "Data columns (total 25 columns):\n",
            " #   Column                        Non-Null Count  Dtype  \n",
            "---  ------                        --------------  -----  \n",
            " 0   NUMBER                        10696 non-null  int64  \n",
            " 1    DRIVER_NUMBER                10696 non-null  int64  \n",
            " 2    LAP_NUMBER                   10696 non-null  int64  \n",
            " 3   LAP_TIME                      10276 non-null  float64\n",
            " 4    LAP_IMPROVEMENT              10696 non-null  int64  \n",
            " 5    CROSSING_FINISH_LINE_IN_PIT  1250 non-null   object \n",
            " 6    S1                           10692 non-null  float64\n",
            " 7    S1_IMPROVEMENT               10696 non-null  int64  \n",
            " 8    S2                           10688 non-null  float64\n",
            " 9    S2_IMPROVEMENT               10696 non-null  int64  \n",
            " 10   S3                           10660 non-null  float64\n",
            " 11   S3_IMPROVEMENT               10696 non-null  int64  \n",
            " 12   KPH                          10664 non-null  float64\n",
            " 13   ELAPSED                      10696 non-null  float64\n",
            " 14   HOUR                         10696 non-null  float64\n",
            " 15  S1_LARGE                      10692 non-null  float64\n",
            " 16  S2_LARGE                      10688 non-null  float64\n",
            " 17  S3_LARGE                      10660 non-null  float64\n",
            " 18  DRIVER_NAME                   10696 non-null  object \n",
            " 19  PIT_TIME                      2053 non-null   float64\n",
            " 20  GROUP                         899 non-null    float64\n",
            " 21  TEAM                          10696 non-null  object \n",
            " 22  POWER                         3212 non-null   float64\n",
            " 23  LOCATION                      10696 non-null  object \n",
            " 24  EVENT                         10696 non-null  object \n",
            "dtypes: float64(13), int64(7), object(5)\n",
            "memory usage: 2.1+ MB\n"
          ]
        }
      ]
    },
    {
      "cell_type": "code",
      "metadata": {
        "colab": {
          "base_uri": "https://localhost:8080/"
        },
        "id": "QVx97t-N1Qiw",
        "outputId": "e8bf8e45-0894-41c4-ace8-99faf460ed36"
      },
      "source": [
        "catcols = [5,18,21,20,23,24]\n",
        "for col in catcols:\n",
        "  df[cn[col]]=df[cn[col]].fillna('N')\n",
        "df.info()"
      ],
      "execution_count": null,
      "outputs": [
        {
          "output_type": "stream",
          "name": "stdout",
          "text": [
            "<class 'pandas.core.frame.DataFrame'>\n",
            "Int64Index: 10696 entries, 0 to 419\n",
            "Data columns (total 25 columns):\n",
            " #   Column                        Non-Null Count  Dtype  \n",
            "---  ------                        --------------  -----  \n",
            " 0   NUMBER                        10696 non-null  int64  \n",
            " 1    DRIVER_NUMBER                10696 non-null  int64  \n",
            " 2    LAP_NUMBER                   10696 non-null  int64  \n",
            " 3   LAP_TIME                      10276 non-null  float64\n",
            " 4    LAP_IMPROVEMENT              10696 non-null  int64  \n",
            " 5    CROSSING_FINISH_LINE_IN_PIT  10696 non-null  object \n",
            " 6    S1                           10692 non-null  float64\n",
            " 7    S1_IMPROVEMENT               10696 non-null  int64  \n",
            " 8    S2                           10688 non-null  float64\n",
            " 9    S2_IMPROVEMENT               10696 non-null  int64  \n",
            " 10   S3                           10660 non-null  float64\n",
            " 11   S3_IMPROVEMENT               10696 non-null  int64  \n",
            " 12   KPH                          10664 non-null  float64\n",
            " 13   ELAPSED                      10696 non-null  float64\n",
            " 14   HOUR                         10696 non-null  float64\n",
            " 15  S1_LARGE                      10692 non-null  float64\n",
            " 16  S2_LARGE                      10688 non-null  float64\n",
            " 17  S3_LARGE                      10660 non-null  float64\n",
            " 18  DRIVER_NAME                   10696 non-null  object \n",
            " 19  PIT_TIME                      2053 non-null   float64\n",
            " 20  GROUP                         10696 non-null  object \n",
            " 21  TEAM                          10696 non-null  object \n",
            " 22  POWER                         3212 non-null   float64\n",
            " 23  LOCATION                      10696 non-null  object \n",
            " 24  EVENT                         10696 non-null  object \n",
            "dtypes: float64(12), int64(7), object(6)\n",
            "memory usage: 2.1+ MB\n"
          ]
        }
      ]
    },
    {
      "cell_type": "code",
      "metadata": {
        "colab": {
          "base_uri": "https://localhost:8080/"
        },
        "id": "fCJRE_d61HFp",
        "outputId": "6f0a6eaf-f276-4e61-e749-3cc7fd9b7f66"
      },
      "source": [
        "#handle missing data\n",
        "ncols = [3,6,8,10,12,15,16,17,19,22] #,25,26,27,28,29,30,31]\n",
        "for col in ncols:\n",
        "  df[cn[col]]=df[cn[col]].fillna(df[cn[col]].mean())\n",
        "df.info()"
      ],
      "execution_count": null,
      "outputs": [
        {
          "output_type": "stream",
          "name": "stdout",
          "text": [
            "<class 'pandas.core.frame.DataFrame'>\n",
            "Int64Index: 10696 entries, 0 to 419\n",
            "Data columns (total 25 columns):\n",
            " #   Column                        Non-Null Count  Dtype  \n",
            "---  ------                        --------------  -----  \n",
            " 0   NUMBER                        10696 non-null  int64  \n",
            " 1    DRIVER_NUMBER                10696 non-null  int64  \n",
            " 2    LAP_NUMBER                   10696 non-null  int64  \n",
            " 3   LAP_TIME                      10696 non-null  float64\n",
            " 4    LAP_IMPROVEMENT              10696 non-null  int64  \n",
            " 5    CROSSING_FINISH_LINE_IN_PIT  10696 non-null  object \n",
            " 6    S1                           10696 non-null  float64\n",
            " 7    S1_IMPROVEMENT               10696 non-null  int64  \n",
            " 8    S2                           10696 non-null  float64\n",
            " 9    S2_IMPROVEMENT               10696 non-null  int64  \n",
            " 10   S3                           10696 non-null  float64\n",
            " 11   S3_IMPROVEMENT               10696 non-null  int64  \n",
            " 12   KPH                          10696 non-null  float64\n",
            " 13   ELAPSED                      10696 non-null  float64\n",
            " 14   HOUR                         10696 non-null  float64\n",
            " 15  S1_LARGE                      10696 non-null  float64\n",
            " 16  S2_LARGE                      10696 non-null  float64\n",
            " 17  S3_LARGE                      10696 non-null  float64\n",
            " 18  DRIVER_NAME                   10696 non-null  object \n",
            " 19  PIT_TIME                      10696 non-null  float64\n",
            " 20  GROUP                         10696 non-null  object \n",
            " 21  TEAM                          10696 non-null  object \n",
            " 22  POWER                         10696 non-null  float64\n",
            " 23  LOCATION                      10696 non-null  object \n",
            " 24  EVENT                         10696 non-null  object \n",
            "dtypes: float64(12), int64(7), object(6)\n",
            "memory usage: 2.1+ MB\n"
          ]
        }
      ]
    },
    {
      "cell_type": "code",
      "metadata": {
        "colab": {
          "base_uri": "https://localhost:8080/"
        },
        "id": "Os0daRf10WLX",
        "outputId": "0233a528-367e-451c-8a52-d65a9bd12ba2"
      },
      "source": [
        "#get numerical cols\n",
        "\n",
        "num_cols = []\n",
        "for i in range(1,df.shape[1]):\n",
        "  if i not in catcols: num_cols.append(cn[i])\n",
        "print(num_cols)"
      ],
      "execution_count": null,
      "outputs": [
        {
          "output_type": "stream",
          "name": "stdout",
          "text": [
            "[' DRIVER_NUMBER', ' LAP_NUMBER', 'LAP_TIME', ' LAP_IMPROVEMENT', ' S1', ' S1_IMPROVEMENT', ' S2', ' S2_IMPROVEMENT', ' S3', ' S3_IMPROVEMENT', ' KPH', ' ELAPSED', ' HOUR', 'S1_LARGE', 'S2_LARGE', 'S3_LARGE', 'PIT_TIME', 'POWER']\n"
          ]
        }
      ]
    },
    {
      "cell_type": "code",
      "metadata": {
        "colab": {
          "base_uri": "https://localhost:8080/",
          "height": 462
        },
        "id": "lqPX-99k6VLR",
        "outputId": "4a69c046-ffa2-4763-f3d0-e42cb5c709de"
      },
      "source": [
        "sns.set_style(\"white\")\n",
        "f, ax = plt.subplots(figsize=(8, 7))\n",
        "ax.set_xscale(\"log\")\n",
        "ax = sns.boxplot(data=df[num_cols] , orient=\"h\", palette=\"Set1\")\n",
        "ax.xaxis.grid(False)\n",
        "ax.set(ylabel=\"Feature names\")\n",
        "ax.set(xlabel=\"Numeric values\")\n",
        "ax.set(title=\"Numeric Distribution of Features\")\n",
        "sns.despine(trim=True, left=True)"
      ],
      "execution_count": null,
      "outputs": [
        {
          "output_type": "display_data",
          "data": {
            "image/png": "[encoded data removed]",
            "text/plain": [
              "<Figure size 576x504 with 1 Axes>"
            ]
          },
          "metadata": {}
        }
      ]
    },
    {
      "cell_type": "code",
      "metadata": {
        "colab": {
          "base_uri": "https://localhost:8080/"
        },
        "id": "--i-vdeP77tl",
        "outputId": "a2c0e6d8-e6f1-404c-bc2a-af608c960f1b"
      },
      "source": [
        "# Find skewed numerical features\n",
        "skew_features = df[num_cols].apply(lambda x: skew(x)).sort_values(ascending=False)\n",
        "\n",
        "high_skew = skew_features[skew_features > 0.5]\n",
        "skew_index = high_skew.index\n",
        "\n",
        "print(\"There are {} numerical features with Skew > 0.5 :\".format(high_skew.shape[0]))\n",
        "skewness = pd.DataFrame({'Skew' :high_skew})\n",
        "skew_features.head(10)"
      ],
      "execution_count": null,
      "outputs": [
        {
          "output_type": "stream",
          "name": "stdout",
          "text": [
            "There are 13 numerical features with Skew > 0.5 :\n"
          ]
        },
        {
          "output_type": "execute_result",
          "data": {
            "text/plain": [
              "S3_LARGE            11.663499\n",
              " S3                 11.663495\n",
              " S1                  8.495239\n",
              "S1_LARGE             8.495219\n",
              "PIT_TIME             8.363415\n",
              " S1_IMPROVEMENT      3.368257\n",
              " S3_IMPROVEMENT      3.361366\n",
              " LAP_IMPROVEMENT     3.351049\n",
              " S2_IMPROVEMENT      3.350492\n",
              " S2                  1.322420\n",
              "dtype: float64"
            ]
          },
          "metadata": {},
          "execution_count": 15
        }
      ]
    },
    {
      "cell_type": "code",
      "metadata": {
        "id": "3DWUwPSR8Qul"
      },
      "source": [
        "# Normalize skewed features\n",
        "for i in skew_index:\n",
        "    df[i] = boxcox1p(df[i], boxcox_normmax(df[i] + 1))"
      ],
      "execution_count": null,
      "outputs": []
    },
    {
      "cell_type": "code",
      "metadata": {
        "colab": {
          "base_uri": "https://localhost:8080/",
          "height": 462
        },
        "id": "pxlfj53J8afx",
        "outputId": "6bb171d7-b256-4ee8-99b1-c597b4cb7b7c"
      },
      "source": [
        "sns.set_style(\"white\")\n",
        "f, ax = plt.subplots(figsize=(8, 7))\n",
        "ax.set_xscale(\"log\")\n",
        "ax = sns.boxplot(data=df[num_cols] , orient=\"h\", palette=\"Set1\")\n",
        "ax.xaxis.grid(False)\n",
        "ax.set(ylabel=\"Feature names\")\n",
        "ax.set(xlabel=\"Numeric values\")\n",
        "ax.set(title=\"Numeric Distribution of Features\")\n",
        "sns.despine(trim=True, left=True)"
      ],
      "execution_count": null,
      "outputs": [
        {
          "output_type": "display_data",
          "data": {
            "image/png": "[encoded data removed]",
            "text/plain": [
              "<Figure size 576x504 with 1 Axes>"
            ]
          },
          "metadata": {}
        }
      ]
    },
    {
      "cell_type": "code",
      "metadata": {
        "colab": {
          "base_uri": "https://localhost:8080/"
        },
        "id": "MgnvrTpX9gZW",
        "outputId": "55035cc7-96ea-425c-e88c-61df2078b86f"
      },
      "source": [
        "df.drop(columns=['NUMBER'],inplace=True)\n",
        "df.info()"
      ],
      "execution_count": null,
      "outputs": [
        {
          "output_type": "stream",
          "name": "stdout",
          "text": [
            "<class 'pandas.core.frame.DataFrame'>\n",
            "Int64Index: 10696 entries, 0 to 419\n",
            "Data columns (total 24 columns):\n",
            " #   Column                        Non-Null Count  Dtype  \n",
            "---  ------                        --------------  -----  \n",
            " 0    DRIVER_NUMBER                10696 non-null  int64  \n",
            " 1    LAP_NUMBER                   10696 non-null  int64  \n",
            " 2   LAP_TIME                      10696 non-null  float64\n",
            " 3    LAP_IMPROVEMENT              10696 non-null  float64\n",
            " 4    CROSSING_FINISH_LINE_IN_PIT  10696 non-null  object \n",
            " 5    S1                           10696 non-null  float64\n",
            " 6    S1_IMPROVEMENT               10696 non-null  float64\n",
            " 7    S2                           10696 non-null  float64\n",
            " 8    S2_IMPROVEMENT               10696 non-null  float64\n",
            " 9    S3                           10696 non-null  float64\n",
            " 10   S3_IMPROVEMENT               10696 non-null  float64\n",
            " 11   KPH                          10696 non-null  float64\n",
            " 12   ELAPSED                      10696 non-null  float64\n",
            " 13   HOUR                         10696 non-null  float64\n",
            " 14  S1_LARGE                      10696 non-null  float64\n",
            " 15  S2_LARGE                      10696 non-null  float64\n",
            " 16  S3_LARGE                      10696 non-null  float64\n",
            " 17  DRIVER_NAME                   10696 non-null  object \n",
            " 18  PIT_TIME                      10696 non-null  float64\n",
            " 19  GROUP                         10696 non-null  object \n",
            " 20  TEAM                          10696 non-null  object \n",
            " 21  POWER                         10696 non-null  float64\n",
            " 22  LOCATION                      10696 non-null  object \n",
            " 23  EVENT                         10696 non-null  object \n",
            "dtypes: float64(16), int64(2), object(6)\n",
            "memory usage: 2.0+ MB\n"
          ]
        }
      ]
    },
    {
      "cell_type": "code",
      "metadata": {
        "id": "myT1mzIK-ChA"
      },
      "source": [
        "df=pd.get_dummies(df)\n",
        "df.drop(columns=['LAP_TIME'],inplace=True)"
      ],
      "execution_count": null,
      "outputs": []
    },
    {
      "cell_type": "code",
      "metadata": {
        "id": "wPscr8uMH3dB"
      },
      "source": [
        "x = df.values #returns a numpy array\n",
        "min_max_scaler = preprocessing.MinMaxScaler()\n",
        "x_scaled = min_max_scaler.fit_transform(x)\n",
        "ndf = pd.DataFrame(x_scaled)\n",
        "#ndf['target']=tc"
      ],
      "execution_count": null,
      "outputs": []
    },
    {
      "cell_type": "code",
      "metadata": {
        "colab": {
          "base_uri": "https://localhost:8080/"
        },
        "id": "Wah5QwRP-u_V",
        "outputId": "e2700eca-9af1-4307-9288-c5f5b7966d03"
      },
      "source": [
        "X,Y,X_test = ndf.iloc[:-420,:],tc,ndf.iloc[-420:,:]\n",
        "X.shape,Y.shape,X_test.shape"
      ],
      "execution_count": null,
      "outputs": [
        {
          "output_type": "execute_result",
          "data": {
            "text/plain": [
              "((10276, 86), (10276,), (420, 86))"
            ]
          },
          "metadata": {},
          "execution_count": 21
        }
      ]
    },
    {
      "cell_type": "code",
      "metadata": {
        "colab": {
          "base_uri": "https://localhost:8080/"
        },
        "id": "5nM9C_XxHnQF",
        "outputId": "46fa28c5-a017-47d3-c920-8fa0d83b43a3"
      },
      "source": [
        "from sklearn.decomposition import PCA\n",
        "pca = PCA(n_components=45)\n",
        "pca.fit(X)\n",
        "X=pca.transform(X)\n",
        "X_test = pca.transform(X_test)\n",
        "sum(pca.explained_variance_ratio_)*100"
      ],
      "execution_count": null,
      "outputs": [
        {
          "output_type": "execute_result",
          "data": {
            "text/plain": [
              "99.40944080517046"
            ]
          },
          "metadata": {},
          "execution_count": 22
        }
      ]
    },
    {
      "cell_type": "code",
      "metadata": {
        "id": "_AIUXqBdxuft"
      },
      "source": [
        "def make_nn(inp,nnl=[32, 16],dr=0.0):\n",
        "  nl=len(nnl)\n",
        "  model = Sequential()\n",
        "  model.add(Dense(nnl[0],input_dim=inp))\n",
        "  model.add(Activation('relu'))\n",
        "  for i in range(1,nl):\n",
        "    model.add(Dense(nnl[i]))\n",
        "    model.add(Activation('relu'))\n",
        "    model.add(layers.Dropout(dr))\n",
        "  model.add(Dense(1))\n",
        "  model.add(Activation('relu'))\n",
        "  return model"
      ],
      "execution_count": null,
      "outputs": []
    },
    {
      "cell_type": "code",
      "metadata": {
        "id": "zNjv55zxHsJp"
      },
      "source": [
        "#X_train, X_val, Y_train, Y_val = train_test_split(X,Y,  test_size = .8, shuffle = True)"
      ],
      "execution_count": null,
      "outputs": []
    },
    {
      "cell_type": "code",
      "metadata": {
        "id": "R-DGgCvdz68m"
      },
      "source": [
        "models = [\n",
        "          make_nn(X.shape[1],[16,16,16],0.2) for _ in range(500) ]\n",
        "\n",
        "preds_val = []\n",
        "preds_test = []\n",
        "batch_size = 32\n",
        "c = 1\n",
        "for model in models:\n",
        "  X_train, X_val, Y_train, Y_val = train_test_split(X,Y,  test_size = .6, shuffle = True)\n",
        "  model.compile(optimizer=tf.keras.optimizers.Adam(learning_rate=3e-4),loss = tf.keras.losses.mean_squared_logarithmic_error, metrics=tf.keras.losses.mean_squared_logarithmic_error)\n",
        "  model.fit(X_train, Y_train, batch_size=batch_size, epochs=50,verbose=0) # validation_data= [X_val, Y_val],\n",
        "  #preds_val.append(model.predict(X_val))\n",
        "  preds_test.append(model.predict(X_test))\n",
        "  print(f'model {c} is done ')#, val rmlse is {mean_squared_log_error(preds_val[c-1],Y_val)}')\n",
        "  c=c+1"
      ],
      "execution_count": null,
      "outputs": []
    },
    {
      "cell_type": "code",
      "metadata": {
        "id": "lPML-Cdmh-_y",
        "colab": {
          "base_uri": "https://localhost:8080/",
          "height": 174
        },
        "outputId": "f622df10-edc7-4821-f380-9894b3a35aa8"
      },
      "source": [
        "# Light Gradient Boosting Regressor\n",
        "'''lightgbm = LGBMRegressor(objective='regression', \n",
        "                       num_leaves=6,\n",
        "                       learning_rate=0.01, \n",
        "                       n_estimators=1000,\n",
        "                       max_bin=200, \n",
        "                       bagging_fraction=0.8,\n",
        "                       bagging_freq=4, \n",
        "                       bagging_seed=8,\n",
        "                       feature_fraction=0.2,\n",
        "                       feature_fraction_seed=8,\n",
        "                       min_sum_hessian_in_leaf = 11,\n",
        "                       verbose=-1,\n",
        "                       random_state=42)\n",
        "# XGBoost Regressor\n",
        "xgboost = XGBRegressor(learning_rate=0.01,\n",
        "                       n_estimators=1200,\n",
        "                       max_depth=4,\n",
        "                       min_child_weight=0,\n",
        "                       gamma=0.6,\n",
        "                       subsample=0.7,\n",
        "                       colsample_bytree=0.7,\n",
        "                       objective='reg:linear',\n",
        "                       nthread=-1,\n",
        "                       scale_pos_weight=1,\n",
        "                       seed=27,\n",
        "                       reg_alpha=0.00006,\n",
        "                       random_state=42)\n",
        "\n",
        "\n",
        "# Support Vector Regressor\n",
        "svr = make_pipeline(RobustScaler(), SVR(C= 20, epsilon= 0.008, gamma=0.0003))\n",
        "\n",
        "# Gradient Boosting Regressor\n",
        "gbr = GradientBoostingRegressor(n_estimators=1200,\n",
        "                                learning_rate=0.01,\n",
        "                                max_depth=4,\n",
        "                                max_features='sqrt',\n",
        "                                min_samples_leaf=15,\n",
        "                                min_samples_split=10,\n",
        "                                loss='huber',\n",
        "                                random_state=42)  \n",
        "# Random Forest Regressor\n",
        "rf = RandomForestRegressor(n_estimators=500,\n",
        "                          max_depth=15,\n",
        "                          min_samples_split=5,\n",
        "                          min_samples_leaf=5,\n",
        "                          max_features=None,\n",
        "                          oob_score=True,\n",
        "                          random_state=42)\n",
        "\n",
        "\n",
        "# Stack up all the models above, optimized using xgboost\n",
        "stack_gen = StackingCVRegressor(regressors=( lightgbm, svr, gbr, rf,xgboost),\n",
        "                                meta_regressor= xgboost,\n",
        "                                use_features_in_secondary=True)'''"
      ],
      "execution_count": null,
      "outputs": [
        {
          "output_type": "execute_result",
          "data": {
            "application/vnd.google.colaboratory.intrinsic+json": {
              "type": "string"
            },
            "text/plain": [
              "\"lightgbm = LGBMRegressor(objective='regression', \\n                       num_leaves=6,\\n                       learning_rate=0.01, \\n                       n_estimators=1000,\\n                       max_bin=200, \\n                       bagging_fraction=0.8,\\n                       bagging_freq=4, \\n                       bagging_seed=8,\\n                       feature_fraction=0.2,\\n                       feature_fraction_seed=8,\\n                       min_sum_hessian_in_leaf = 11,\\n                       verbose=-1,\\n                       random_state=42)\\n# XGBoost Regressor\\nxgboost = XGBRegressor(learning_rate=0.01,\\n                       n_estimators=1200,\\n                       max_depth=4,\\n                       min_child_weight=0,\\n                       gamma=0.6,\\n                       subsample=0.7,\\n                       colsample_bytree=0.7,\\n                       objective='reg:linear',\\n                       nthread=-1,\\n                       scale_pos_weight=1,\\n                       seed=27,\\n                       reg_alpha=0.00006,\\n                       random_state=42)\\n\\n\\n# Support Vector Regressor\\nsvr = make_pipeline(RobustScaler(), SVR(C= 20, epsilon= 0.008, gamma=0.0003))\\n\\n# Gradient Boosting Regressor\\ngbr = GradientBoostingRegressor(n_estimators=1200,\\n                                learning_rate=0.01,\\n                                max_depth=4,\\n                                max_features='sqrt',\\n                                min_samples_leaf=15,\\n                                min_samples_split=10,\\n                                loss='huber',\\n                                random_state=42)  \\n# Random Forest Regressor\\nrf = RandomForestRegressor(n_estimators=500,\\n                          max_depth=15,\\n                          min_samples_split=5,\\n                          min_samples_leaf=5,\\n                          max_features=None,\\n                          oob_score=True,\\n                          random_state=42)\\n\\n\\n# Stack up all the models above, optimized using xgboost\\nstack_gen = StackingCVRegressor(regressors=( lightgbm, svr, gbr, rf,xgboost),\\n                                meta_regressor= xgboost,\\n                                use_features_in_secondary=True)\""
            ]
          },
          "metadata": {},
          "execution_count": 27
        }
      ]
    },
    {
      "cell_type": "code",
      "metadata": {
        "colab": {
          "base_uri": "https://localhost:8080/",
          "height": 87
        },
        "id": "SMONsLeRiX6u",
        "outputId": "610ee1cc-7966-4da2-ad20-dd252e3e50ba"
      },
      "source": [
        "'''mlmodels = [lightgbm,xgboost,svr,gbr,rf,stack_gen]\n",
        "c = 0\n",
        "for model in mlmodels:\n",
        "  #X_train, X_val, Y_train, Y_val = train_test_split(X,Y,  test_size = .2, shuffle = True)\n",
        "  model.fit(X_train, Y_train)\n",
        "  preds_val.append(model.predict(X_val))\n",
        "  preds_test.append(model.predict(X_test))\n",
        "  print(f'model {c} is done , val rmlse is {mean_squared_log_error(preds_val[c-1],Y_val)}')\n",
        "  c=c+1'''"
      ],
      "execution_count": null,
      "outputs": [
        {
          "output_type": "execute_result",
          "data": {
            "application/vnd.google.colaboratory.intrinsic+json": {
              "type": "string"
            },
            "text/plain": [
              "\"mlmodels = [lightgbm,xgboost,svr,gbr,rf,stack_gen]\\nc = 0\\nfor model in mlmodels:\\n  #X_train, X_val, Y_train, Y_val = train_test_split(X,Y,  test_size = .2, shuffle = True)\\n  model.fit(X_train, Y_train)\\n  preds_val.append(model.predict(X_val))\\n  preds_test.append(model.predict(X_test))\\n  print(f'model {c} is done , val rmlse is {mean_squared_log_error(preds_val[c-1],Y_val)}')\\n  c=c+1\""
            ]
          },
          "metadata": {},
          "execution_count": 28
        }
      ]
    },
    {
      "cell_type": "code",
      "metadata": {
        "id": "6369tWcQkuMS",
        "colab": {
          "base_uri": "https://localhost:8080/",
          "height": 35
        },
        "outputId": "c2dcfe40-fed8-4eba-887b-eea81f14a754"
      },
      "source": [
        "for i in range(len(preds_test)):\n",
        "  submission_df = pd.DataFrame(preds_test[i], columns = [\"LAP_TIME\"])\n",
        "  submission_df = submission_df.fillna(value = np.mean(submission_df))\n",
        "  submission_df.to_csv('/content/Download5/my_3_16ssubmission6_file'+str(i)+'.csv', index=False)\n",
        "import shutil\n",
        "shutil.make_archive('Download5', 'zip', '/content/Download5/')"
      ],
      "execution_count": null,
      "outputs": [
        {
          "output_type": "execute_result",
          "data": {
            "application/vnd.google.colaboratory.intrinsic+json": {
              "type": "string"
            },
            "text/plain": [
              "'/content/Download5.zip'"
            ]
          },
          "metadata": {},
          "execution_count": 35
        }
      ]
    },
    {
      "cell_type": "code",
      "metadata": {
        "id": "-8TI9gm3hFrB",
        "colab": {
          "base_uri": "https://localhost:8080/",
          "height": 87
        },
        "outputId": "fe6f6659-e7ce-427a-8994-07d8cd9d4265"
      },
      "source": [
        "'''from sklearn.svm import SVR\n",
        "from sklearn.ensemble import BaggingRegressor\n",
        "svr = make_pipeline(RobustScaler(), SVR(C= 20, epsilon= 0.008, gamma=0.0003))\n",
        "#svr_model_full_data = svr.fit(np.array(X_train), np.array(Y_train))\n",
        "#mean_squared_log_error(svr.predict(X_val),Y_val)\n",
        "regr = BaggingRegressor(base_estimator=svr,\n",
        "                        n_estimators=10, random_state=0).fit(X_train, Y_train)\n",
        "mean_squared_log_error(regr.predict(X_val),Y_val)'''"
      ],
      "execution_count": null,
      "outputs": [
        {
          "output_type": "execute_result",
          "data": {
            "application/vnd.google.colaboratory.intrinsic+json": {
              "type": "string"
            },
            "text/plain": [
              "'from sklearn.svm import SVR\\nfrom sklearn.ensemble import BaggingRegressor\\nsvr = make_pipeline(RobustScaler(), SVR(C= 20, epsilon= 0.008, gamma=0.0003))\\n#svr_model_full_data = svr.fit(np.array(X_train), np.array(Y_train))\\n#mean_squared_log_error(svr.predict(X_val),Y_val)\\nregr = BaggingRegressor(base_estimator=svr,\\n                        n_estimators=10, random_state=0).fit(X_train, Y_train)\\nmean_squared_log_error(regr.predict(X_val),Y_val)'"
            ]
          },
          "metadata": {},
          "execution_count": 29
        }
      ]
    },
    {
      "cell_type": "code",
      "metadata": {
        "id": "2PU_ovkpdOrw",
        "colab": {
          "base_uri": "https://localhost:8080/",
          "height": 105
        },
        "outputId": "98316645-9968-475f-aa54-cf57108f85c1"
      },
      "source": [
        "'''stacked_val = np.column_stack(tuple(preds_val))\n",
        "stacked_test = np.column_stack(tuple(preds_test))\n",
        "meta_model = make_nn(len(models),[32,16],0.1)\n",
        "meta_model.compile(optimizer=tf.keras.optimizers.Adam(learning_rate=3e-3),loss = tf.keras.losses.mean_squared_logarithmic_error, metrics=tf.keras.losses.mean_squared_logarithmic_error)\n",
        "meta_model.fit(stacked_val, Y_val,validation_split=0.1, batch_size=batch_size, epochs=20)\n",
        "ans=meta_model.predict(stacked_test)'''"
      ],
      "execution_count": null,
      "outputs": [
        {
          "output_type": "execute_result",
          "data": {
            "application/vnd.google.colaboratory.intrinsic+json": {
              "type": "string"
            },
            "text/plain": [
              "'stacked_val = np.column_stack(tuple(preds_val))\\nstacked_test = np.column_stack(tuple(preds_test))\\nmeta_model = make_nn(len(models),[32,16],0.1)\\nmeta_model.compile(optimizer=tf.keras.optimizers.Adam(learning_rate=3e-3),loss = tf.keras.losses.mean_squared_logarithmic_error, metrics=tf.keras.losses.mean_squared_logarithmic_error)\\nmeta_model.fit(stacked_val, Y_val,validation_split=0.1, batch_size=batch_size, epochs=20)\\nans=meta_model.predict(stacked_test)'"
            ]
          },
          "metadata": {},
          "execution_count": 30
        }
      ]
    },
    {
      "cell_type": "code",
      "metadata": {
        "id": "HKXavIa11kxr",
        "colab": {
          "base_uri": "https://localhost:8080/",
          "height": 191
        },
        "outputId": "b7386d90-9b9a-49fb-97f5-96d4c07d8169"
      },
      "source": [
        "'''nsets = len(models)//10\n",
        "stacked_val,stacked_test,meta_model,predsl1,vall1=[],[],[],[],[]\n",
        "for s in range(0,nsets):\n",
        "  stacked_val.append(np.column_stack(tuple(preds_val[(s*10):(s*10+10)])))\n",
        "  stacked_test.append(np.column_stack(tuple(preds_test[(s*10):(s*10+10)])))\n",
        "  meta_model.append(make_nn(10,[32,16],0.1))\n",
        "  meta_model[s].compile(optimizer=tf.keras.optimizers.Adam(learning_rate=3e-4),loss = tf.keras.losses.mean_squared_logarithmic_error, metrics=tf.keras.losses.mean_squared_logarithmic_error)\n",
        "  meta_model[s].fit(stacked_val[s], Y_val,validation_split=0.1, batch_size=batch_size, epochs=40)\n",
        "  predsl1.append(meta_model[s].predict(stacked_test[s]))\n",
        "  vall1.append(meta_model[s].predict(stacked_test[s]))\n",
        "s_val = np.column_stack(tuple(vall1))\n",
        "s_test = np.column_stack(tuple(predsl1))\n",
        "meta_model = make_nn(nsets,[32,16],0.1)\n",
        "meta_model.compile(optimizer=tf.keras.optimizers.Adam(learning_rate=3e-4),loss = tf.keras.losses.mean_squared_logarithmic_error, metrics=tf.keras.losses.mean_squared_logarithmic_error)\n",
        "meta_model.fit(s_val, Y_val,validation_split=0.1, batch_size=batch_size, epochs=40)'''"
      ],
      "execution_count": null,
      "outputs": [
        {
          "output_type": "execute_result",
          "data": {
            "application/vnd.google.colaboratory.intrinsic+json": {
              "type": "string"
            },
            "text/plain": [
              "'nsets = len(models)//10\\nstacked_val,stacked_test,meta_model,predsl1,vall1=[],[],[],[],[]\\nfor s in range(0,nsets):\\n  stacked_val.append(np.column_stack(tuple(preds_val[(s*10):(s*10+10)])))\\n  stacked_test.append(np.column_stack(tuple(preds_test[(s*10):(s*10+10)])))\\n  meta_model.append(make_nn(10,[32,16],0.1))\\n  meta_model[s].compile(optimizer=tf.keras.optimizers.Adam(learning_rate=3e-4),loss = tf.keras.losses.mean_squared_logarithmic_error, metrics=tf.keras.losses.mean_squared_logarithmic_error)\\n  meta_model[s].fit(stacked_val[s], Y_val,validation_split=0.1, batch_size=batch_size, epochs=40)\\n  predsl1.append(meta_model[s].predict(stacked_test[s]))\\n  vall1.append(meta_model[s].predict(stacked_test[s]))\\ns_val = np.column_stack(tuple(vall1))\\ns_test = np.column_stack(tuple(predsl1))\\nmeta_model = make_nn(nsets,[32,16],0.1)\\nmeta_model.compile(optimizer=tf.keras.optimizers.Adam(learning_rate=3e-4),loss = tf.keras.losses.mean_squared_logarithmic_error, metrics=tf.keras.losses.mean_squared_logarithmic_error)\\nmeta_model.fit(s_val, Y_val,validation_split=0.1, batch_size=batch_size, epochs=40)'"
            ]
          },
          "metadata": {},
          "execution_count": 31
        }
      ]
    },
    {
      "cell_type": "code",
      "metadata": {
        "id": "3XOOxBnliT6F"
      },
      "source": [
        "#ans = sum(predsl1)/len(predsl1)"
      ],
      "execution_count": null,
      "outputs": []
    },
    {
      "cell_type": "code",
      "metadata": {
        "colab": {
          "base_uri": "https://localhost:8080/",
          "height": 53
        },
        "id": "cgXawGzgaExK",
        "outputId": "d58192a2-d7a4-47b1-f1b5-cf728d0cb450"
      },
      "source": [
        "'''stacked_val = np.column_stack(tuple(preds_val))\n",
        "stacked_test = np.column_stack(tuple(preds_test))\n",
        "svr = make_pipeline(RobustScaler(), SVR(C= 20, epsilon= 0.008, gamma=0.0003))\n",
        "svr.fit(stacked_val,Y_val)'''"
      ],
      "execution_count": null,
      "outputs": [
        {
          "output_type": "execute_result",
          "data": {
            "application/vnd.google.colaboratory.intrinsic+json": {
              "type": "string"
            },
            "text/plain": [
              "'stacked_val = np.column_stack(tuple(preds_val))\\nstacked_test = np.column_stack(tuple(preds_test))\\nsvr = make_pipeline(RobustScaler(), SVR(C= 20, epsilon= 0.008, gamma=0.0003))\\nsvr.fit(stacked_val,Y_val)'"
            ]
          },
          "metadata": {},
          "execution_count": 33
        }
      ]
    },
    {
      "cell_type": "code",
      "metadata": {
        "id": "U_unJWNKDk6R",
        "colab": {
          "base_uri": "https://localhost:8080/",
          "height": 35
        },
        "outputId": "49b6cc11-2b95-49cc-d4a9-ff41ca11e509"
      },
      "source": [
        "#submission_df = pd.DataFrame(model.predict(X_test), columns = [\"LAP_TIME\"])\n",
        "#submission_df = pd.DataFrame(meta_model.predict(stacked_test), columns = [\"LAP_TIME\"])\n",
        "submission_df = pd.DataFrame(preds_test[0], columns = [\"LAP_TIME\"])\n",
        "#submission_df = pd.DataFrame(svr.predict(stacked_test), columns = [\"LAP_TIME\"])\n",
        "submission_df = submission_df.fillna(value = np.mean(submission_df))\n",
        "submission_df.to_csv('my_submission_file.csv', index=False)\n",
        "from google.colab import files\n",
        "files.download('my_submission_file.csv')\n",
        "print(submission_df.size)"
      ],
      "execution_count": null,
      "outputs": [
        {
          "output_type": "display_data",
          "data": {
            "application/javascript": [
              "\n",
              "    async function download(id, filename, size) {\n",
              "      if (!google.colab.kernel.accessAllowed) {\n",
              "        return;\n",
              "      }\n",
              "      const div = document.createElement('div');\n",
              "      const label = document.createElement('label');\n",
              "      label.textContent = `Downloading \"${filename}\": `;\n",
              "      div.appendChild(label);\n",
              "      const progress = document.createElement('progress');\n",
              "      progress.max = size;\n",
              "      div.appendChild(progress);\n",
              "      document.body.appendChild(div);\n",
              "\n",
              "      const buffers = [];\n",
              "      let downloaded = 0;\n",
              "\n",
              "      const channel = await google.colab.kernel.comms.open(id);\n",
              "      // Send a message to notify the kernel that we're ready.\n",
              "      channel.send({})\n",
              "\n",
              "      for await (const message of channel.messages) {\n",
              "        // Send a message to notify the kernel that we're ready.\n",
              "        channel.send({})\n",
              "        if (message.buffers) {\n",
              "          for (const buffer of message.buffers) {\n",
              "            buffers.push(buffer);\n",
              "            downloaded += buffer.byteLength;\n",
              "            progress.value = downloaded;\n",
              "          }\n",
              "        }\n",
              "      }\n",
              "      const blob = new Blob(buffers, {type: 'application/binary'});\n",
              "      const a = document.createElement('a');\n",
              "      a.href = window.URL.createObjectURL(blob);\n",
              "      a.download = filename;\n",
              "      div.appendChild(a);\n",
              "      a.click();\n",
              "      div.remove();\n",
              "    }\n",
              "  "
            ],
            "text/plain": [
              "<IPython.core.display.Javascript object>"
            ]
          },
          "metadata": {}
        },
        {
          "output_type": "display_data",
          "data": {
            "application/javascript": [
              "download(\"download_30c8c2f6-65fc-42e9-a6bd-a1557710b7b4\", \"my_submission_file.csv\", 4020)"
            ],
            "text/plain": [
              "<IPython.core.display.Javascript object>"
            ]
          },
          "metadata": {}
        },
        {
          "output_type": "stream",
          "name": "stdout",
          "text": [
            "420\n"
          ]
        }
      ]
    },
    {
      "cell_type": "code",
      "metadata": {
        "id": "RWRsPIyKE4r1"
      },
      "source": [
        ""
      ],
      "execution_count": null,
      "outputs": []
    }
  ]
}