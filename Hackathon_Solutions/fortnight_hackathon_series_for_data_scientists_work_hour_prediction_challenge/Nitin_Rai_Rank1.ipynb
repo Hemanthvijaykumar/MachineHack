{
 "cells": [
  {
   "cell_type": "code",
   "execution_count": 1,
   "metadata": {},
   "outputs": [],
   "source": [
    "import pandas as pd\n",
    "import numpy as np\n",
    "from sklearn.model_selection import StratifiedKFold\n",
    "from catboost import CatBoostRegressor"
   ]
  },
  {
   "cell_type": "code",
   "execution_count": 2,
   "metadata": {},
   "outputs": [],
   "source": [
    "# Reading data\n",
    "train=pd.read_csv('../Data/train.csv')\n",
    "test=pd.read_csv('../Data/test.csv')"
   ]
  },
  {
   "cell_type": "code",
   "execution_count": 3,
   "metadata": {},
   "outputs": [],
   "source": [
    "# Getting list of categorical and numerical columns\n",
    "cat_cols=list(train.columns[train.dtypes=='object'])\n",
    "num_cols=list(train.columns[train.dtypes!='object'].drop(['hours-per-week']))"
   ]
  },
  {
   "cell_type": "code",
   "execution_count": 4,
   "metadata": {},
   "outputs": [
    {
     "name": "stderr",
     "output_type": "stream",
     "text": [
      "C:\\Users\\psyre\\Anaconda3\\lib\\site-packages\\pandas\\core\\frame.py:3065: SettingWithCopyWarning: \n",
      "A value is trying to be set on a copy of a slice from a DataFrame.\n",
      "Try using .loc[row_indexer,col_indexer] = value instead\n",
      "\n",
      "See the caveats in the documentation: https://pandas.pydata.org/pandas-docs/stable/user_guide/indexing.html#returning-a-view-versus-a-copy\n",
      "  self[k1] = value[k2]\n"
     ]
    }
   ],
   "source": [
    "train_Y=train['hours-per-week']\n",
    "train_X=train[num_cols+cat_cols]\n",
    "train_X[cat_cols]=train_X[cat_cols].astype('str')\n",
    "\n",
    "test_X=test[num_cols+cat_cols]\n",
    "test_X[cat_cols]=test_X[cat_cols].astype('str')"
   ]
  },
  {
   "cell_type": "code",
   "execution_count": 5,
   "metadata": {},
   "outputs": [
    {
     "name": "stderr",
     "output_type": "stream",
     "text": [
      "C:\\Users\\psyre\\Anaconda3\\lib\\site-packages\\sklearn\\model_selection\\_split.py:670: UserWarning: The least populated class in y has only 1 members, which is less than n_splits=5.\n",
      "  warnings.warn((\"The least populated class in y has only %d\"\n"
     ]
    },
    {
     "name": "stdout",
     "output_type": "stream",
     "text": [
      "0:\tlearn: 11.0213992\ttest: 10.9869885\tbest: 10.9869885 (0)\ttotal: 226ms\tremaining: 3m 45s\n",
      "500:\tlearn: 9.2362350\ttest: 9.5314374\tbest: 9.5252996 (453)\ttotal: 35.7s\tremaining: 35.5s\n",
      "Stopped by overfitting detector  (50 iterations wait)\n",
      "\n",
      "bestTest = 9.525299601\n",
      "bestIteration = 453\n",
      "\n",
      "Shrink model to first 454 iterations.\n",
      "0:\tlearn: 11.0100532\ttest: 11.0138702\tbest: 11.0138702 (0)\ttotal: 67ms\tremaining: 1m 6s\n",
      "Stopped by overfitting detector  (50 iterations wait)\n",
      "\n",
      "bestTest = 9.773388011\n",
      "bestIteration = 311\n",
      "\n",
      "Shrink model to first 312 iterations.\n",
      "0:\tlearn: 11.0181916\ttest: 10.9833822\tbest: 10.9833822 (0)\ttotal: 59.7ms\tremaining: 59.6s\n",
      "Stopped by overfitting detector  (50 iterations wait)\n",
      "\n",
      "bestTest = 9.644502908\n",
      "bestIteration = 235\n",
      "\n",
      "Shrink model to first 236 iterations.\n",
      "0:\tlearn: 11.0010227\ttest: 11.0283579\tbest: 11.0283579 (0)\ttotal: 66.6ms\tremaining: 1m 6s\n",
      "Stopped by overfitting detector  (50 iterations wait)\n",
      "\n",
      "bestTest = 9.710133567\n",
      "bestIteration = 353\n",
      "\n",
      "Shrink model to first 354 iterations.\n",
      "0:\tlearn: 11.0083076\ttest: 11.0522664\tbest: 11.0522664 (0)\ttotal: 64.8ms\tremaining: 1m 4s\n",
      "Stopped by overfitting detector  (50 iterations wait)\n",
      "\n",
      "bestTest = 9.639010607\n",
      "bestIteration = 330\n",
      "\n",
      "Shrink model to first 331 iterations.\n"
     ]
    }
   ],
   "source": [
    "params_cb={'cat_features':cat_cols,'random_seed':123,'n_estimators':1000,'learning_rate':0.05}\n",
    "\n",
    "# Doing a 5 fold stratified sampling and running catboost model\n",
    "fold=StratifiedKFold(n_splits=5, shuffle=True, random_state=12345)\n",
    "pred_cb,cb_scores=[],[]\n",
    "for idxT, idxV in fold.split(train_X, train_Y):\n",
    "    X_train, X_test = train_X.iloc[idxT], train_X.iloc[idxV]\n",
    "    y_train, y_test = train_Y.iloc[idxT], train_Y.iloc[idxV]\n",
    "    \n",
    "    cb=CatBoostRegressor(**params_cb,early_stopping_rounds=50,eval_metric='RMSE')\n",
    "    cb.fit(X_train, y_train,eval_set=(X_test,y_test),plot=False, verbose=500)\n",
    "    cb_scores.append(cb.get_best_score().get('validation').get('RMSE'))\n",
    "    pred_cb.append(cb.predict(test_X))"
   ]
  },
  {
   "cell_type": "code",
   "execution_count": 6,
   "metadata": {},
   "outputs": [
    {
     "name": "stdout",
     "output_type": "stream",
     "text": [
      "The Local CV is 9.657757502689186\n"
     ]
    }
   ],
   "source": [
    "#Inverting the scores to get weights as lower score is better\n",
    "weights=1/np.array(cb_scores)\n",
    "weights=weights/sum(weights)\n",
    "print ('The Local CV is {}'.format(sum(weights*cb_scores)))"
   ]
  },
  {
   "cell_type": "code",
   "execution_count": 7,
   "metadata": {},
   "outputs": [],
   "source": [
    "# Creating submission file\n",
    "pd.DataFrame({'hours-per-week':np.dot(weights,pred_cb)}).to_csv('submit.csv',index=False)"
   ]
  }
 ],
 "metadata": {
  "kernelspec": {
   "display_name": "Python 3",
   "language": "python",
   "name": "python3"
  },
  "language_info": {
   "codemirror_mode": {
    "name": "ipython",
    "version": 3
   },
   "file_extension": ".py",
   "mimetype": "text/x-python",
   "name": "python",
   "nbconvert_exporter": "python",
   "pygments_lexer": "ipython3",
   "version": "3.8.5"
  }
 },
 "nbformat": 4,
 "nbformat_minor": 4
}
