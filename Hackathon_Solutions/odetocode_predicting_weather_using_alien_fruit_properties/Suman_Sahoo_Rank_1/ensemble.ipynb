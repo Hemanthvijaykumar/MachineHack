{
 "cells": [
  {
   "cell_type": "code",
   "execution_count": null,
   "id": "demanding-thesis",
   "metadata": {},
   "outputs": [],
   "source": [
    "import numpy as np\n",
    "import pandas as pd"
   ]
  },
  {
   "cell_type": "code",
   "execution_count": null,
   "id": "sophisticated-michigan",
   "metadata": {},
   "outputs": [],
   "source": [
    "s0 = np.load('lgb0_preds.npy')\n",
    "s1 = np.load('cat0_preds.npy')\n",
    "s2 = np.load('hgb0_preds.npy')\n",
    "s3 = np.load('tab0_preds.npy')\n",
    "s4 = np.load('tf1_preds.npy')"
   ]
  },
  {
   "cell_type": "code",
   "execution_count": null,
   "id": "secure-treaty",
   "metadata": {},
   "outputs": [],
   "source": [
    "test_preds = 2.5 * s4 + 1.5 * s3 + 0.25 * s2 + 1.0 * s1 +  0.5 * s0"
   ]
  },
  {
   "cell_type": "code",
   "execution_count": null,
   "id": "powerful-signal",
   "metadata": {},
   "outputs": [],
   "source": [
    "sub = pd.DataFrame()\n",
    "sub['season'] = np.argmax(test_preds, axis = 1)\n",
    "sub['season'] = sub['season'].map({0:'a', 1:'u', 2:'w', 3:'s'})\n",
    "sub.to_csv('sub.csv', index=False)\n",
    "sub['season'].value_counts(normalize = True)"
   ]
  }
 ],
 "metadata": {
  "kernelspec": {
   "display_name": "Python 3",
   "language": "python",
   "name": "python3"
  },
  "language_info": {
   "codemirror_mode": {
    "name": "ipython",
    "version": 3
   },
   "file_extension": ".py",
   "mimetype": "text/x-python",
   "name": "python",
   "nbconvert_exporter": "python",
   "pygments_lexer": "ipython3",
   "version": "3.8.8"
  }
 },
 "nbformat": 4,
 "nbformat_minor": 5
}
