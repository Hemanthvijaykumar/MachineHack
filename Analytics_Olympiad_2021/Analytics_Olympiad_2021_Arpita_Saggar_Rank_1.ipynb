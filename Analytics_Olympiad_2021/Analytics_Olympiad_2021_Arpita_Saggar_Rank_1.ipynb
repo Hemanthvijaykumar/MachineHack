{
  "nbformat": 4,
  "nbformat_minor": 0,
  "metadata": {
    "colab": {
      "name": "Analytics Olympiad - Arpita Saggar.ipynb",
      "provenance": [],
      "collapsed_sections": []
    },
    "kernelspec": {
      "name": "python3",
      "display_name": "Python 3"
    },
    "language_info": {
      "name": "python"
    }
  },
  "cells": [
    {
      "cell_type": "markdown",
      "metadata": {
        "id": "ePAVFFWI9jHO"
      },
      "source": [
        "# Drive Connection"
      ]
    },
    {
      "cell_type": "code",
      "metadata": {
        "colab": {
          "base_uri": "https://localhost:8080/"
        },
        "id": "qRuSEvFPPGlN",
        "outputId": "1aed4a47-d1de-4834-c05a-23d1b4eda17f"
      },
      "source": [
        "from google.colab import drive\n",
        "drive.mount('/content/drive')\n",
        "import os\n",
        "os.chdir('/content/drive/My Drive/mh analytics olympiad')"
      ],
      "execution_count": null,
      "outputs": [
        {
          "output_type": "stream",
          "name": "stdout",
          "text": [
            "Mounted at /content/drive\n"
          ]
        }
      ]
    },
    {
      "cell_type": "markdown",
      "metadata": {
        "id": "Pkgpdl-H9lae"
      },
      "source": [
        "# EDA"
      ]
    },
    {
      "cell_type": "code",
      "metadata": {
        "colab": {
          "base_uri": "https://localhost:8080/",
          "height": 203
        },
        "id": "Z_7qpYi3PTMw",
        "outputId": "147ab673-d814-48f7-f5dc-62d65cee4b6a"
      },
      "source": [
        "import pandas as pd\n",
        "\n",
        "train = pd.read_csv('train.csv')\n",
        "train.head()"
      ],
      "execution_count": null,
      "outputs": [
        {
          "output_type": "execute_result",
          "data": {
            "text/html": [
              "<div>\n",
              "<style scoped>\n",
              "    .dataframe tbody tr th:only-of-type {\n",
              "        vertical-align: middle;\n",
              "    }\n",
              "\n",
              "    .dataframe tbody tr th {\n",
              "        vertical-align: top;\n",
              "    }\n",
              "\n",
              "    .dataframe thead th {\n",
              "        text-align: right;\n",
              "    }\n",
              "</style>\n",
              "<table border=\"1\" class=\"dataframe\">\n",
              "  <thead>\n",
              "    <tr style=\"text-align: right;\">\n",
              "      <th></th>\n",
              "      <th>Item_ID</th>\n",
              "      <th>Item_W</th>\n",
              "      <th>Item_Type</th>\n",
              "      <th>Item_MRP</th>\n",
              "      <th>Outlet_ID</th>\n",
              "      <th>Outlet_Year</th>\n",
              "      <th>Outlet_Size</th>\n",
              "      <th>Outlet_Location_Type</th>\n",
              "      <th>Sales</th>\n",
              "    </tr>\n",
              "  </thead>\n",
              "  <tbody>\n",
              "    <tr>\n",
              "      <th>0</th>\n",
              "      <td>FDU32</td>\n",
              "      <td>21.027499</td>\n",
              "      <td>Baking Goods</td>\n",
              "      <td>197.352319</td>\n",
              "      <td>OUT046</td>\n",
              "      <td>2004</td>\n",
              "      <td>Small</td>\n",
              "      <td>Tier 2</td>\n",
              "      <td>2689.457781</td>\n",
              "    </tr>\n",
              "    <tr>\n",
              "      <th>1</th>\n",
              "      <td>NCT54</td>\n",
              "      <td>21.102371</td>\n",
              "      <td>Meat</td>\n",
              "      <td>148.250214</td>\n",
              "      <td>OUT035</td>\n",
              "      <td>1987</td>\n",
              "      <td>Small</td>\n",
              "      <td>Tier 1</td>\n",
              "      <td>3437.350375</td>\n",
              "    </tr>\n",
              "    <tr>\n",
              "      <th>2</th>\n",
              "      <td>FDW08</td>\n",
              "      <td>20.882263</td>\n",
              "      <td>Hard Drinks</td>\n",
              "      <td>205.465010</td>\n",
              "      <td>OUT035</td>\n",
              "      <td>1999</td>\n",
              "      <td>Small</td>\n",
              "      <td>Tier 3</td>\n",
              "      <td>3129.967268</td>\n",
              "    </tr>\n",
              "    <tr>\n",
              "      <th>3</th>\n",
              "      <td>FDJ22</td>\n",
              "      <td>21.050435</td>\n",
              "      <td>Starchy Foods</td>\n",
              "      <td>253.417583</td>\n",
              "      <td>OUT046</td>\n",
              "      <td>1996</td>\n",
              "      <td>Small</td>\n",
              "      <td>Tier 1</td>\n",
              "      <td>1306.514376</td>\n",
              "    </tr>\n",
              "    <tr>\n",
              "      <th>4</th>\n",
              "      <td>FDF47</td>\n",
              "      <td>21.247876</td>\n",
              "      <td>Baking Goods</td>\n",
              "      <td>240.871039</td>\n",
              "      <td>OUT035</td>\n",
              "      <td>1988</td>\n",
              "      <td>Small</td>\n",
              "      <td>Tier 3</td>\n",
              "      <td>1739.769829</td>\n",
              "    </tr>\n",
              "  </tbody>\n",
              "</table>\n",
              "</div>"
            ],
            "text/plain": [
              "  Item_ID     Item_W  ... Outlet_Location_Type        Sales\n",
              "0   FDU32  21.027499  ...               Tier 2  2689.457781\n",
              "1   NCT54  21.102371  ...               Tier 1  3437.350375\n",
              "2   FDW08  20.882263  ...               Tier 3  3129.967268\n",
              "3   FDJ22  21.050435  ...               Tier 1  1306.514376\n",
              "4   FDF47  21.247876  ...               Tier 3  1739.769829\n",
              "\n",
              "[5 rows x 9 columns]"
            ]
          },
          "metadata": {},
          "execution_count": 2
        }
      ]
    },
    {
      "cell_type": "code",
      "metadata": {
        "colab": {
          "base_uri": "https://localhost:8080/"
        },
        "id": "2kXMR5RURf70",
        "outputId": "a0bf0ec5-9c22-4a97-aed9-26437bb19377"
      },
      "source": [
        "train.shape"
      ],
      "execution_count": null,
      "outputs": [
        {
          "output_type": "execute_result",
          "data": {
            "text/plain": [
              "(87864, 9)"
            ]
          },
          "metadata": {},
          "execution_count": 3
        }
      ]
    },
    {
      "cell_type": "code",
      "metadata": {
        "colab": {
          "base_uri": "https://localhost:8080/"
        },
        "id": "-fmdwQvIQMD3",
        "outputId": "558dd513-3fdf-4859-a456-57b6d3a57795"
      },
      "source": [
        "for col in train:\n",
        "  print(col, train[col].nunique(), '\\n')"
      ],
      "execution_count": null,
      "outputs": [
        {
          "output_type": "stream",
          "name": "stdout",
          "text": [
            "Item_ID 895 \n",
            "\n",
            "Item_W 87283 \n",
            "\n",
            "Item_Type 16 \n",
            "\n",
            "Item_MRP 87814 \n",
            "\n",
            "Outlet_ID 5 \n",
            "\n",
            "Outlet_Year 12 \n",
            "\n",
            "Outlet_Size 3 \n",
            "\n",
            "Outlet_Location_Type 3 \n",
            "\n",
            "Sales 87760 \n",
            "\n"
          ]
        }
      ]
    },
    {
      "cell_type": "code",
      "metadata": {
        "colab": {
          "base_uri": "https://localhost:8080/",
          "height": 203
        },
        "id": "zgGDLbkq2_wk",
        "outputId": "9026cfc5-7038-4bf7-937e-d16175dfbd1b"
      },
      "source": [
        "pd.DataFrame({\n",
        "    'Outlet_ID Values': train['Outlet_ID'].value_counts().index,\n",
        "    'Count': train['Outlet_ID'].value_counts().values\n",
        "})"
      ],
      "execution_count": null,
      "outputs": [
        {
          "output_type": "execute_result",
          "data": {
            "text/html": [
              "<div>\n",
              "<style scoped>\n",
              "    .dataframe tbody tr th:only-of-type {\n",
              "        vertical-align: middle;\n",
              "    }\n",
              "\n",
              "    .dataframe tbody tr th {\n",
              "        vertical-align: top;\n",
              "    }\n",
              "\n",
              "    .dataframe thead th {\n",
              "        text-align: right;\n",
              "    }\n",
              "</style>\n",
              "<table border=\"1\" class=\"dataframe\">\n",
              "  <thead>\n",
              "    <tr style=\"text-align: right;\">\n",
              "      <th></th>\n",
              "      <th>Outlet_ID Values</th>\n",
              "      <th>Count</th>\n",
              "    </tr>\n",
              "  </thead>\n",
              "  <tbody>\n",
              "    <tr>\n",
              "      <th>0</th>\n",
              "      <td>OUT035</td>\n",
              "      <td>24071</td>\n",
              "    </tr>\n",
              "    <tr>\n",
              "      <th>1</th>\n",
              "      <td>OUT046</td>\n",
              "      <td>20850</td>\n",
              "    </tr>\n",
              "    <tr>\n",
              "      <th>2</th>\n",
              "      <td>OUT018</td>\n",
              "      <td>17156</td>\n",
              "    </tr>\n",
              "    <tr>\n",
              "      <th>3</th>\n",
              "      <td>OUT049</td>\n",
              "      <td>13356</td>\n",
              "    </tr>\n",
              "    <tr>\n",
              "      <th>4</th>\n",
              "      <td>OUT013</td>\n",
              "      <td>12431</td>\n",
              "    </tr>\n",
              "  </tbody>\n",
              "</table>\n",
              "</div>"
            ],
            "text/plain": [
              "  Outlet_ID Values  Count\n",
              "0           OUT035  24071\n",
              "1           OUT046  20850\n",
              "2           OUT018  17156\n",
              "3           OUT049  13356\n",
              "4           OUT013  12431"
            ]
          },
          "metadata": {},
          "execution_count": 28
        }
      ]
    },
    {
      "cell_type": "code",
      "metadata": {
        "colab": {
          "base_uri": "https://localhost:8080/",
          "height": 542
        },
        "id": "ZsPiBizT5s6E",
        "outputId": "d4fff9e0-0083-4c79-df39-62962ad48e2d"
      },
      "source": [
        "pd.DataFrame({\n",
        "    'Item_Type Values': train['Item_Type'].value_counts().index,\n",
        "    'Count': train['Item_Type'].value_counts().values\n",
        "})"
      ],
      "execution_count": null,
      "outputs": [
        {
          "output_type": "execute_result",
          "data": {
            "text/html": [
              "<div>\n",
              "<style scoped>\n",
              "    .dataframe tbody tr th:only-of-type {\n",
              "        vertical-align: middle;\n",
              "    }\n",
              "\n",
              "    .dataframe tbody tr th {\n",
              "        vertical-align: top;\n",
              "    }\n",
              "\n",
              "    .dataframe thead th {\n",
              "        text-align: right;\n",
              "    }\n",
              "</style>\n",
              "<table border=\"1\" class=\"dataframe\">\n",
              "  <thead>\n",
              "    <tr style=\"text-align: right;\">\n",
              "      <th></th>\n",
              "      <th>Item_Type Values</th>\n",
              "      <th>Count</th>\n",
              "    </tr>\n",
              "  </thead>\n",
              "  <tbody>\n",
              "    <tr>\n",
              "      <th>0</th>\n",
              "      <td>Baking Goods</td>\n",
              "      <td>14666</td>\n",
              "    </tr>\n",
              "    <tr>\n",
              "      <th>1</th>\n",
              "      <td>Fruits and Vegetables</td>\n",
              "      <td>14328</td>\n",
              "    </tr>\n",
              "    <tr>\n",
              "      <th>2</th>\n",
              "      <td>Meat</td>\n",
              "      <td>8099</td>\n",
              "    </tr>\n",
              "    <tr>\n",
              "      <th>3</th>\n",
              "      <td>Snack Foods</td>\n",
              "      <td>7817</td>\n",
              "    </tr>\n",
              "    <tr>\n",
              "      <th>4</th>\n",
              "      <td>Household</td>\n",
              "      <td>6018</td>\n",
              "    </tr>\n",
              "    <tr>\n",
              "      <th>5</th>\n",
              "      <td>Soft Drinks</td>\n",
              "      <td>5396</td>\n",
              "    </tr>\n",
              "    <tr>\n",
              "      <th>6</th>\n",
              "      <td>Frozen Foods</td>\n",
              "      <td>5129</td>\n",
              "    </tr>\n",
              "    <tr>\n",
              "      <th>7</th>\n",
              "      <td>Canned</td>\n",
              "      <td>4565</td>\n",
              "    </tr>\n",
              "    <tr>\n",
              "      <th>8</th>\n",
              "      <td>Dairy</td>\n",
              "      <td>3807</td>\n",
              "    </tr>\n",
              "    <tr>\n",
              "      <th>9</th>\n",
              "      <td>Others</td>\n",
              "      <td>3688</td>\n",
              "    </tr>\n",
              "    <tr>\n",
              "      <th>10</th>\n",
              "      <td>Breads</td>\n",
              "      <td>3509</td>\n",
              "    </tr>\n",
              "    <tr>\n",
              "      <th>11</th>\n",
              "      <td>Hard Drinks</td>\n",
              "      <td>3129</td>\n",
              "    </tr>\n",
              "    <tr>\n",
              "      <th>12</th>\n",
              "      <td>Health and Hygiene</td>\n",
              "      <td>2995</td>\n",
              "    </tr>\n",
              "    <tr>\n",
              "      <th>13</th>\n",
              "      <td>Starchy Foods</td>\n",
              "      <td>2974</td>\n",
              "    </tr>\n",
              "    <tr>\n",
              "      <th>14</th>\n",
              "      <td>Seafood</td>\n",
              "      <td>1107</td>\n",
              "    </tr>\n",
              "    <tr>\n",
              "      <th>15</th>\n",
              "      <td>Breakfast</td>\n",
              "      <td>637</td>\n",
              "    </tr>\n",
              "  </tbody>\n",
              "</table>\n",
              "</div>"
            ],
            "text/plain": [
              "         Item_Type Values  Count\n",
              "0            Baking Goods  14666\n",
              "1   Fruits and Vegetables  14328\n",
              "2                    Meat   8099\n",
              "3             Snack Foods   7817\n",
              "4               Household   6018\n",
              "5             Soft Drinks   5396\n",
              "6            Frozen Foods   5129\n",
              "7                  Canned   4565\n",
              "8                   Dairy   3807\n",
              "9                  Others   3688\n",
              "10                 Breads   3509\n",
              "11            Hard Drinks   3129\n",
              "12     Health and Hygiene   2995\n",
              "13          Starchy Foods   2974\n",
              "14                Seafood   1107\n",
              "15              Breakfast    637"
            ]
          },
          "metadata": {},
          "execution_count": 29
        }
      ]
    },
    {
      "cell_type": "code",
      "metadata": {
        "colab": {
          "base_uri": "https://localhost:8080/",
          "height": 142
        },
        "id": "mBVBDa3c5zNz",
        "outputId": "c54285a8-1ccd-455e-f127-5b3167353e53"
      },
      "source": [
        "pd.DataFrame({\n",
        "    'Outlet_Size Values': train['Outlet_Size'].value_counts().index,\n",
        "    'Count': train['Outlet_Size'].value_counts().values\n",
        "})"
      ],
      "execution_count": null,
      "outputs": [
        {
          "output_type": "execute_result",
          "data": {
            "text/html": [
              "<div>\n",
              "<style scoped>\n",
              "    .dataframe tbody tr th:only-of-type {\n",
              "        vertical-align: middle;\n",
              "    }\n",
              "\n",
              "    .dataframe tbody tr th {\n",
              "        vertical-align: top;\n",
              "    }\n",
              "\n",
              "    .dataframe thead th {\n",
              "        text-align: right;\n",
              "    }\n",
              "</style>\n",
              "<table border=\"1\" class=\"dataframe\">\n",
              "  <thead>\n",
              "    <tr style=\"text-align: right;\">\n",
              "      <th></th>\n",
              "      <th>Outlet_Size Values</th>\n",
              "      <th>Count</th>\n",
              "    </tr>\n",
              "  </thead>\n",
              "  <tbody>\n",
              "    <tr>\n",
              "      <th>0</th>\n",
              "      <td>Small</td>\n",
              "      <td>48614</td>\n",
              "    </tr>\n",
              "    <tr>\n",
              "      <th>1</th>\n",
              "      <td>Medium</td>\n",
              "      <td>26683</td>\n",
              "    </tr>\n",
              "    <tr>\n",
              "      <th>2</th>\n",
              "      <td>High</td>\n",
              "      <td>12567</td>\n",
              "    </tr>\n",
              "  </tbody>\n",
              "</table>\n",
              "</div>"
            ],
            "text/plain": [
              "  Outlet_Size Values  Count\n",
              "0              Small  48614\n",
              "1             Medium  26683\n",
              "2               High  12567"
            ]
          },
          "metadata": {},
          "execution_count": 30
        }
      ]
    },
    {
      "cell_type": "code",
      "metadata": {
        "colab": {
          "base_uri": "https://localhost:8080/",
          "height": 142
        },
        "id": "aj2NO0TW51R0",
        "outputId": "9ef10cc2-cc17-49c4-f40b-cd3c8ad23602"
      },
      "source": [
        "pd.DataFrame({\n",
        "    'Outlet_Location_Type Values': train['Outlet_Location_Type'].value_counts().index,\n",
        "    'Count': train['Outlet_Location_Type'].value_counts().values\n",
        "})\n"
      ],
      "execution_count": null,
      "outputs": [
        {
          "output_type": "execute_result",
          "data": {
            "text/html": [
              "<div>\n",
              "<style scoped>\n",
              "    .dataframe tbody tr th:only-of-type {\n",
              "        vertical-align: middle;\n",
              "    }\n",
              "\n",
              "    .dataframe tbody tr th {\n",
              "        vertical-align: top;\n",
              "    }\n",
              "\n",
              "    .dataframe thead th {\n",
              "        text-align: right;\n",
              "    }\n",
              "</style>\n",
              "<table border=\"1\" class=\"dataframe\">\n",
              "  <thead>\n",
              "    <tr style=\"text-align: right;\">\n",
              "      <th></th>\n",
              "      <th>Outlet_Location_Type Values</th>\n",
              "      <th>Count</th>\n",
              "    </tr>\n",
              "  </thead>\n",
              "  <tbody>\n",
              "    <tr>\n",
              "      <th>0</th>\n",
              "      <td>Tier 1</td>\n",
              "      <td>33567</td>\n",
              "    </tr>\n",
              "    <tr>\n",
              "      <th>1</th>\n",
              "      <td>Tier 3</td>\n",
              "      <td>29044</td>\n",
              "    </tr>\n",
              "    <tr>\n",
              "      <th>2</th>\n",
              "      <td>Tier 2</td>\n",
              "      <td>25253</td>\n",
              "    </tr>\n",
              "  </tbody>\n",
              "</table>\n",
              "</div>"
            ],
            "text/plain": [
              "  Outlet_Location_Type Values  Count\n",
              "0                      Tier 1  33567\n",
              "1                      Tier 3  29044\n",
              "2                      Tier 2  25253"
            ]
          },
          "metadata": {},
          "execution_count": 31
        }
      ]
    },
    {
      "cell_type": "code",
      "metadata": {
        "colab": {
          "base_uri": "https://localhost:8080/",
          "height": 608
        },
        "id": "LuGA37CT2Xea",
        "outputId": "87068c75-0bc6-493f-88a8-b80524a39373"
      },
      "source": [
        "import matplotlib.pyplot as plt\n",
        "\n",
        "train.hist(figsize=(10,10))\n",
        "#plt.savefig('dist.png', dpi=600, bbox_inches='tight')"
      ],
      "execution_count": null,
      "outputs": [
        {
          "output_type": "display_data",
          "data": {
            "image/png": "[encoded data removed]",
            "text/plain": [
              "<Figure size 720x720 with 4 Axes>"
            ]
          },
          "metadata": {
            "needs_background": "light"
          }
        }
      ]
    },
    {
      "cell_type": "code",
      "metadata": {
        "colab": {
          "base_uri": "https://localhost:8080/"
        },
        "id": "Z2Xar_KcQH7x",
        "outputId": "f3b081d0-99d7-41bb-dfa2-b04410e96b2a"
      },
      "source": [
        "train.isnull().sum()"
      ],
      "execution_count": null,
      "outputs": [
        {
          "output_type": "execute_result",
          "data": {
            "text/plain": [
              "Item_ID                 0\n",
              "Item_W                  0\n",
              "Item_Type               0\n",
              "Item_MRP                0\n",
              "Outlet_ID               0\n",
              "Outlet_Year             0\n",
              "Outlet_Size             0\n",
              "Outlet_Location_Type    0\n",
              "Sales                   0\n",
              "dtype: int64"
            ]
          },
          "metadata": {},
          "execution_count": 4
        }
      ]
    },
    {
      "cell_type": "code",
      "metadata": {
        "colab": {
          "base_uri": "https://localhost:8080/"
        },
        "id": "m8FPlZA5QJ4b",
        "outputId": "e1e19bc2-9dd7-4d0a-93a8-0fbc0e5d8e7e"
      },
      "source": [
        "train.dtypes"
      ],
      "execution_count": null,
      "outputs": [
        {
          "output_type": "execute_result",
          "data": {
            "text/plain": [
              "Item_ID                  object\n",
              "Item_W                  float64\n",
              "Item_Type                object\n",
              "Item_MRP                float64\n",
              "Outlet_ID                object\n",
              "Outlet_Year               int64\n",
              "Outlet_Size              object\n",
              "Outlet_Location_Type     object\n",
              "Sales                   float64\n",
              "dtype: object"
            ]
          },
          "metadata": {},
          "execution_count": 5
        }
      ]
    },
    {
      "cell_type": "markdown",
      "metadata": {
        "id": "tBB78F_-9ql2"
      },
      "source": [
        "# Preprocess Data"
      ]
    },
    {
      "cell_type": "code",
      "metadata": {
        "id": "PkZgUtI0Qtz2"
      },
      "source": [
        "numerical_cols = [\n",
        "             'Item_MRP',\n",
        "       'Outlet_Year' \n",
        "]\n",
        "\n",
        "#'Item_W',"
      ],
      "execution_count": null,
      "outputs": []
    },
    {
      "cell_type": "code",
      "metadata": {
        "id": "ULT26HfjQ9fM"
      },
      "source": [
        "categorical_cols = [\n",
        "                    'Item_Type', 'Outlet_ID',\n",
        "       'Outlet_Size', 'Outlet_Location_Type'\n",
        "]\n",
        "# 'Item_ID', "
      ],
      "execution_count": null,
      "outputs": []
    },
    {
      "cell_type": "code",
      "metadata": {
        "id": "AAjJLYixRJd-"
      },
      "source": [
        "# no null values so no imputation required\n",
        "\n",
        "from sklearn.compose import ColumnTransformer\n",
        "from sklearn.pipeline import Pipeline\n",
        "from sklearn.preprocessing import OneHotEncoder, MinMaxScaler\n",
        "\n",
        "numerical_transformer = Pipeline(steps=[\n",
        "    ('scaler', MinMaxScaler())\n",
        "])\n",
        "\n",
        "categorical_transformer = Pipeline(steps=[\n",
        "    ('encode', OneHotEncoder(handle_unknown='ignore'))\n",
        "])\n",
        "\n",
        "# define preprocessing steps\n",
        "\n",
        "preprocessor = ColumnTransformer(\n",
        "    transformers=[\n",
        "        ('num', numerical_transformer, numerical_cols),\n",
        "        ('cat', categorical_transformer, categorical_cols)\n",
        "    ])"
      ],
      "execution_count": null,
      "outputs": []
    },
    {
      "cell_type": "markdown",
      "metadata": {
        "id": "MDiy8VPcr7zL"
      },
      "source": [
        "# Split Data"
      ]
    },
    {
      "cell_type": "code",
      "metadata": {
        "id": "YHFdJaGaRPb5"
      },
      "source": [
        "from sklearn.model_selection import KFold\n",
        "kf = KFold(n_splits=10)"
      ],
      "execution_count": null,
      "outputs": []
    },
    {
      "cell_type": "code",
      "metadata": {
        "id": "RoJYCHopc6Yj"
      },
      "source": [
        "X = train[numerical_cols+categorical_cols]\n",
        "Y = train['Sales']"
      ],
      "execution_count": null,
      "outputs": []
    },
    {
      "cell_type": "markdown",
      "metadata": {
        "id": "4rFe57PKsAwr"
      },
      "source": [
        "# Build & Evaluate Model"
      ]
    },
    {
      "cell_type": "code",
      "metadata": {
        "colab": {
          "base_uri": "https://localhost:8080/"
        },
        "id": "87Ag13oeStij",
        "outputId": "49153241-ae37-4617-a711-fa65a2eb5308"
      },
      "source": [
        "!pip install catboost"
      ],
      "execution_count": null,
      "outputs": [
        {
          "output_type": "stream",
          "name": "stdout",
          "text": [
            "Collecting catboost\n",
            "  Downloading catboost-1.0.3-cp37-none-manylinux1_x86_64.whl (76.3 MB)\n",
            "\u001b[K     |████████████████████████████████| 76.3 MB 23 kB/s \n",
            "\u001b[?25hRequirement already satisfied: graphviz in /usr/local/lib/python3.7/dist-packages (from catboost) (0.10.1)\n",
            "Requirement already satisfied: plotly in /usr/local/lib/python3.7/dist-packages (from catboost) (4.4.1)\n",
            "Requirement already satisfied: matplotlib in /usr/local/lib/python3.7/dist-packages (from catboost) (3.2.2)\n",
            "Requirement already satisfied: pandas>=0.24.0 in /usr/local/lib/python3.7/dist-packages (from catboost) (1.1.5)\n",
            "Requirement already satisfied: scipy in /usr/local/lib/python3.7/dist-packages (from catboost) (1.4.1)\n",
            "Requirement already satisfied: six in /usr/local/lib/python3.7/dist-packages (from catboost) (1.15.0)\n",
            "Requirement already satisfied: numpy>=1.16.0 in /usr/local/lib/python3.7/dist-packages (from catboost) (1.19.5)\n",
            "Requirement already satisfied: pytz>=2017.2 in /usr/local/lib/python3.7/dist-packages (from pandas>=0.24.0->catboost) (2018.9)\n",
            "Requirement already satisfied: python-dateutil>=2.7.3 in /usr/local/lib/python3.7/dist-packages (from pandas>=0.24.0->catboost) (2.8.2)\n",
            "Requirement already satisfied: cycler>=0.10 in /usr/local/lib/python3.7/dist-packages (from matplotlib->catboost) (0.11.0)\n",
            "Requirement already satisfied: kiwisolver>=1.0.1 in /usr/local/lib/python3.7/dist-packages (from matplotlib->catboost) (1.3.2)\n",
            "Requirement already satisfied: pyparsing!=2.0.4,!=2.1.2,!=2.1.6,>=2.0.1 in /usr/local/lib/python3.7/dist-packages (from matplotlib->catboost) (2.4.7)\n",
            "Requirement already satisfied: retrying>=1.3.3 in /usr/local/lib/python3.7/dist-packages (from plotly->catboost) (1.3.3)\n",
            "Installing collected packages: catboost\n",
            "Successfully installed catboost-1.0.3\n"
          ]
        }
      ]
    },
    {
      "cell_type": "code",
      "metadata": {
        "id": "1QqeIn7Qdyrp"
      },
      "source": [
        "from sklearn.metrics import mean_squared_error\n",
        "from lightgbm import LGBMRegressor\n",
        "from catboost import CatBoostRegressor\n",
        "from xgboost import XGBRegressor\n",
        "from sklearn.ensemble import VotingRegressor\n",
        "\n",
        "pipeline = Pipeline(steps=[('preprocessor', preprocessor),\n",
        "                            ('model', VotingRegressor(\n",
        "                                  [\n",
        "                                   ('cat', CatBoostRegressor(iterations=100, verbose=False)),\n",
        "                                    ('xgb', XGBRegressor(objective ='reg:squarederror')),\n",
        "                                    ('lgbm', LGBMRegressor())\n",
        "                                   ],\n",
        "                              ))\n",
        "                             ])"
      ],
      "execution_count": null,
      "outputs": []
    },
    {
      "cell_type": "code",
      "metadata": {
        "colab": {
          "base_uri": "https://localhost:8080/"
        },
        "id": "uMQpmWEtRjPK",
        "outputId": "b53c39ae-cfd6-4ee1-fea9-40e391eff580"
      },
      "source": [
        "total = 0\n",
        "i = 0\n",
        "for train_idx, test_idx in kf.split(X):\n",
        "  X_train, Y_train = X.iloc[train_idx], Y.iloc[train_idx]\n",
        "  X_test, Y_test = X.iloc[test_idx], Y.iloc[test_idx]\n",
        "\n",
        "  pipeline.fit(X_train, Y_train)\n",
        "  y_pred = pipeline.predict(X_test)\n",
        "  print(\"\\n Fold \" + str(i) + \" RMSE: \", mean_squared_error(Y_test, y_pred, squared=False))\n",
        "  total += mean_squared_error(Y_test, y_pred, squared=False)\n",
        "  i += 1\n",
        "\n",
        "print('\\n Average RMSE: ', total/10)"
      ],
      "execution_count": null,
      "outputs": [
        {
          "output_type": "stream",
          "name": "stdout",
          "text": [
            "\n",
            " Fold 0 RMSE:  1278.275069011596\n",
            "\n",
            " Fold 1 RMSE:  1268.8580042059336\n",
            "\n",
            " Fold 2 RMSE:  1259.1690621977698\n",
            "\n",
            " Fold 3 RMSE:  1297.7764392728168\n",
            "\n",
            " Fold 4 RMSE:  1270.8664491155937\n",
            "\n",
            " Fold 5 RMSE:  1268.3107132353502\n",
            "\n",
            " Fold 6 RMSE:  1249.0513997980543\n",
            "\n",
            " Fold 7 RMSE:  1295.5000000533314\n",
            "\n",
            " Fold 8 RMSE:  1302.4432499457123\n",
            "\n",
            " Fold 9 RMSE:  1261.8838794345063\n",
            "\n",
            " Average RMSE:  1275.2134266270664\n"
          ]
        }
      ]
    },
    {
      "cell_type": "markdown",
      "metadata": {
        "id": "i5vjJDv3rqFd"
      },
      "source": [
        "# Permutation Importance"
      ]
    },
    {
      "cell_type": "code",
      "metadata": {
        "id": "Ey3um6YcDhxl"
      },
      "source": [
        "from sklearn.inspection import permutation_importance\n",
        "\n",
        "result = permutation_importance(pipeline, X_test, Y_test,\n",
        "                                random_state=0)"
      ],
      "execution_count": null,
      "outputs": []
    },
    {
      "cell_type": "code",
      "metadata": {
        "colab": {
          "base_uri": "https://localhost:8080/",
          "height": 234
        },
        "id": "iPtDHq_jDmmH",
        "outputId": "34b72d30-5ed1-488d-e298-9b7236dcd251"
      },
      "source": [
        "pd.DataFrame({'cols': X.columns, \"scores\": result['importances_mean']})"
      ],
      "execution_count": null,
      "outputs": [
        {
          "output_type": "execute_result",
          "data": {
            "text/html": [
              "<div>\n",
              "<style scoped>\n",
              "    .dataframe tbody tr th:only-of-type {\n",
              "        vertical-align: middle;\n",
              "    }\n",
              "\n",
              "    .dataframe tbody tr th {\n",
              "        vertical-align: top;\n",
              "    }\n",
              "\n",
              "    .dataframe thead th {\n",
              "        text-align: right;\n",
              "    }\n",
              "</style>\n",
              "<table border=\"1\" class=\"dataframe\">\n",
              "  <thead>\n",
              "    <tr style=\"text-align: right;\">\n",
              "      <th></th>\n",
              "      <th>cols</th>\n",
              "      <th>scores</th>\n",
              "    </tr>\n",
              "  </thead>\n",
              "  <tbody>\n",
              "    <tr>\n",
              "      <th>0</th>\n",
              "      <td>Item_MRP</td>\n",
              "      <td>0.002782</td>\n",
              "    </tr>\n",
              "    <tr>\n",
              "      <th>1</th>\n",
              "      <td>Outlet_Year</td>\n",
              "      <td>0.018811</td>\n",
              "    </tr>\n",
              "    <tr>\n",
              "      <th>2</th>\n",
              "      <td>Item_Type</td>\n",
              "      <td>0.005020</td>\n",
              "    </tr>\n",
              "    <tr>\n",
              "      <th>3</th>\n",
              "      <td>Outlet_ID</td>\n",
              "      <td>0.011064</td>\n",
              "    </tr>\n",
              "    <tr>\n",
              "      <th>4</th>\n",
              "      <td>Outlet_Size</td>\n",
              "      <td>0.004795</td>\n",
              "    </tr>\n",
              "    <tr>\n",
              "      <th>5</th>\n",
              "      <td>Outlet_Location_Type</td>\n",
              "      <td>0.002544</td>\n",
              "    </tr>\n",
              "  </tbody>\n",
              "</table>\n",
              "</div>"
            ],
            "text/plain": [
              "                   cols    scores\n",
              "0              Item_MRP  0.002782\n",
              "1           Outlet_Year  0.018811\n",
              "2             Item_Type  0.005020\n",
              "3             Outlet_ID  0.011064\n",
              "4           Outlet_Size  0.004795\n",
              "5  Outlet_Location_Type  0.002544"
            ]
          },
          "metadata": {},
          "execution_count": 33
        }
      ]
    },
    {
      "cell_type": "markdown",
      "metadata": {
        "id": "_RiR1S3Xrxvh"
      },
      "source": [
        "# Total Training RMSE"
      ]
    },
    {
      "cell_type": "code",
      "metadata": {
        "colab": {
          "base_uri": "https://localhost:8080/"
        },
        "id": "mrABG6BLM5dq",
        "outputId": "4cedaa81-f12c-4fba-d206-bac73269483c"
      },
      "source": [
        "pipeline.fit(X, Y)\n",
        "y_pred = pipeline.predict(X)\n",
        "print(mean_squared_error(Y, y_pred, squared=False))"
      ],
      "execution_count": null,
      "outputs": [
        {
          "output_type": "stream",
          "name": "stdout",
          "text": [
            "1257.478223125429\n"
          ]
        }
      ]
    },
    {
      "cell_type": "markdown",
      "metadata": {
        "id": "JleX_kKErnx6"
      },
      "source": [
        "# Predictions"
      ]
    },
    {
      "cell_type": "code",
      "metadata": {
        "colab": {
          "base_uri": "https://localhost:8080/",
          "height": 203
        },
        "id": "1y9kixlTNBqN",
        "outputId": "bc48195b-633f-4a0c-b93b-06f1bb2d1f87"
      },
      "source": [
        "test = pd.read_csv('test.csv')\n",
        "test.head()"
      ],
      "execution_count": null,
      "outputs": [
        {
          "output_type": "execute_result",
          "data": {
            "text/html": [
              "<div>\n",
              "<style scoped>\n",
              "    .dataframe tbody tr th:only-of-type {\n",
              "        vertical-align: middle;\n",
              "    }\n",
              "\n",
              "    .dataframe tbody tr th {\n",
              "        vertical-align: top;\n",
              "    }\n",
              "\n",
              "    .dataframe thead th {\n",
              "        text-align: right;\n",
              "    }\n",
              "</style>\n",
              "<table border=\"1\" class=\"dataframe\">\n",
              "  <thead>\n",
              "    <tr style=\"text-align: right;\">\n",
              "      <th></th>\n",
              "      <th>Item_ID</th>\n",
              "      <th>Item_W</th>\n",
              "      <th>Item_Type</th>\n",
              "      <th>Item_MRP</th>\n",
              "      <th>Outlet_ID</th>\n",
              "      <th>Outlet_Year</th>\n",
              "      <th>Outlet_Size</th>\n",
              "      <th>Outlet_Location_Type</th>\n",
              "    </tr>\n",
              "  </thead>\n",
              "  <tbody>\n",
              "    <tr>\n",
              "      <th>0</th>\n",
              "      <td>DRM23</td>\n",
              "      <td>10.156725</td>\n",
              "      <td>Snack Foods</td>\n",
              "      <td>119.319482</td>\n",
              "      <td>OUT013</td>\n",
              "      <td>1999</td>\n",
              "      <td>High</td>\n",
              "      <td>Tier 3</td>\n",
              "    </tr>\n",
              "    <tr>\n",
              "      <th>1</th>\n",
              "      <td>FDG47</td>\n",
              "      <td>10.434425</td>\n",
              "      <td>Household</td>\n",
              "      <td>263.600449</td>\n",
              "      <td>OUT018</td>\n",
              "      <td>1987</td>\n",
              "      <td>High</td>\n",
              "      <td>Tier 3</td>\n",
              "    </tr>\n",
              "    <tr>\n",
              "      <th>2</th>\n",
              "      <td>FDN21</td>\n",
              "      <td>11.953589</td>\n",
              "      <td>Health and Hygiene</td>\n",
              "      <td>246.286990</td>\n",
              "      <td>OUT018</td>\n",
              "      <td>1997</td>\n",
              "      <td>High</td>\n",
              "      <td>Tier 1</td>\n",
              "    </tr>\n",
              "    <tr>\n",
              "      <th>3</th>\n",
              "      <td>FDZ23</td>\n",
              "      <td>14.948546</td>\n",
              "      <td>Dairy</td>\n",
              "      <td>136.200508</td>\n",
              "      <td>OUT046</td>\n",
              "      <td>2004</td>\n",
              "      <td>Medium</td>\n",
              "      <td>Tier 2</td>\n",
              "    </tr>\n",
              "    <tr>\n",
              "      <th>4</th>\n",
              "      <td>FDC16</td>\n",
              "      <td>11.080042</td>\n",
              "      <td>Canned</td>\n",
              "      <td>173.145664</td>\n",
              "      <td>OUT018</td>\n",
              "      <td>2009</td>\n",
              "      <td>Medium</td>\n",
              "      <td>Tier 3</td>\n",
              "    </tr>\n",
              "  </tbody>\n",
              "</table>\n",
              "</div>"
            ],
            "text/plain": [
              "  Item_ID     Item_W  ... Outlet_Size  Outlet_Location_Type\n",
              "0   DRM23  10.156725  ...        High                Tier 3\n",
              "1   FDG47  10.434425  ...        High                Tier 3\n",
              "2   FDN21  11.953589  ...        High                Tier 1\n",
              "3   FDZ23  14.948546  ...      Medium                Tier 2\n",
              "4   FDC16  11.080042  ...      Medium                Tier 3\n",
              "\n",
              "[5 rows x 8 columns]"
            ]
          },
          "metadata": {},
          "execution_count": 34
        }
      ]
    },
    {
      "cell_type": "code",
      "metadata": {
        "id": "2reRXQQ1NK3_"
      },
      "source": [
        "# store predictions as dataframe\n",
        "\n",
        "submission = pd.DataFrame(pipeline.predict(test[categorical_cols+numerical_cols]))\n",
        "submission.index = test.index\n",
        "submission.columns = ['Sales']\n",
        "#submission.head()"
      ],
      "execution_count": null,
      "outputs": []
    },
    {
      "cell_type": "code",
      "metadata": {
        "id": "aYY6PDRsNgch"
      },
      "source": [
        "submission.to_csv('submission.csv', index=False)"
      ],
      "execution_count": null,
      "outputs": []
    },
    {
      "cell_type": "markdown",
      "metadata": {
        "id": "KG2lOaHFC4Gu"
      },
      "source": [
        "# Actual vs Predicted"
      ]
    },
    {
      "cell_type": "code",
      "metadata": {
        "id": "01x6q5R3C7rP"
      },
      "source": [
        "import matplotlib.pyplot as plt\n",
        "\n",
        "y_pred = pipeline.predict(X)"
      ],
      "execution_count": null,
      "outputs": []
    },
    {
      "cell_type": "code",
      "metadata": {
        "colab": {
          "base_uri": "https://localhost:8080/",
          "height": 404
        },
        "id": "nk32713DEaJr",
        "outputId": "91eba26a-f7bc-49e6-a4cd-3c6105a3422f"
      },
      "source": [
        "plt.rcParams['figure.figsize'] = (12,6)\n",
        "plt.hist(Y, alpha=0.5, color='green', label='Actual')\n",
        "plt.hist(y_pred, alpha=0.5, color='red', label='Predicted')\n",
        "plt.xlabel('Sales')\n",
        "plt.ylabel('Frequency')\n",
        "plt.title('Actual vs Predicted Sales for Training Set')\n",
        "plt.legend()\n",
        "#plt.savefig('act_vs_pred.png', dpi=600, bbox_inches='tight')"
      ],
      "execution_count": null,
      "outputs": [
        {
          "output_type": "display_data",
          "data": {
            "image/png": "[encoded data removed]",
            "text/plain": [
              "<Figure size 864x432 with 1 Axes>"
            ]
          },
          "metadata": {
            "needs_background": "light"
          }
        }
      ]
    },
    {
      "cell_type": "code",
      "metadata": {
        "colab": {
          "base_uri": "https://localhost:8080/",
          "height": 404
        },
        "id": "dbcwxOXEJqxo",
        "outputId": "988e7e51-5548-42f1-8a7f-785fc85f152e"
      },
      "source": [
        "plt.hist(submission['Sales'])\n",
        "plt.xlabel('Sales')\n",
        "plt.ylabel('Frequency')\n",
        "plt.title('Predicted Sales for Test Set')\n",
        "\n",
        "#plt.savefig('test.png', dpi=600, bbox_inches='tight')"
      ],
      "execution_count": null,
      "outputs": [
        {
          "output_type": "display_data",
          "data": {
            "image/png": "[encoded data removed]",
            "text/plain": [
              "<Figure size 864x432 with 1 Axes>"
            ]
          },
          "metadata": {
            "needs_background": "light"
          }
        }
      ]
    }
  ]
}